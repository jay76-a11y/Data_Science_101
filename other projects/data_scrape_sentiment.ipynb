{
 "cells": [
  {
   "attachments": {},
   "cell_type": "markdown",
   "metadata": {},
   "source": [
    "<h1>Indonesian Police Departement Sentiment Analysis</h1>"
   ]
  },
  {
   "attachments": {},
   "cell_type": "markdown",
   "metadata": {},
   "source": [
    "<p>In this notebook, I'm gonna do sentiment analysis to know what people actually think of the Indonesian Police Departement in the last 3 years</p>"
   ]
  },
  {
   "attachments": {},
   "cell_type": "markdown",
   "metadata": {},
   "source": [
    "<p>@syahrulmwijaya</p>"
   ]
  },
  {
   "attachments": {},
   "cell_type": "markdown",
   "metadata": {},
   "source": [
    "<h3>Import library</h3>"
   ]
  },
  {
   "attachments": {},
   "cell_type": "markdown",
   "metadata": {},
   "source": [
    "<p>Before going too far, we need to import all the libraries first</p>"
   ]
  },
  {
   "cell_type": "code",
   "execution_count": 65,
   "metadata": {},
   "outputs": [],
   "source": [
    "import pandas as pd\n",
    "import seaborn as sns\n",
    "import numpy as np\n",
    "import matplotlib.pyplot as plt\n",
    "\n",
    "#library to do the scraping\n",
    "import snscrape.modules.twitter as sntwitter\n",
    "from tqdm.notebook import tqdm\n",
    "\n",
    "#clear warning message to make the notebook looks clear\n",
    "import warnings\n",
    "warnings.filterwarnings('ignore')\n",
    "\n",
    "plt.style.use('fivethirtyeight')"
   ]
  },
  {
   "attachments": {},
   "cell_type": "markdown",
   "metadata": {},
   "source": [
    "<p>most of the libraries above is a \"normal\" library on data analysys task except for the snscrape that used to do the data scrape task and warnings to ignore (disable) the warnings notification that I personally found it annoying</p>"
   ]
  },
  {
   "attachments": {},
   "cell_type": "markdown",
   "metadata": {},
   "source": [
    "<h3>Scrape The Data<h3>"
   ]
  },
  {
   "attachments": {},
   "cell_type": "markdown",
   "metadata": {},
   "source": [
    "<p>The data I'm gonna use down here is the scraped data that i got from Twitter. Maybe some of you guys asking \"why Twitter?\", the reason why I took twitter to be the subject is because Twitter still widely used in Indonesia to spill out their thought on anything, including about the police depertement</p>"
   ]
  },
  {
   "cell_type": "code",
   "execution_count": 66,
   "metadata": {},
   "outputs": [
    {
     "data": {
      "application/vnd.jupyter.widget-view+json": {
       "model_id": "d0bffac8164d47d8a4baf097cdb376ae",
       "version_major": 2,
       "version_minor": 0
      },
      "text/plain": [
       "  0%|          | 0/12000 [00:00<?, ?it/s]"
      ]
     },
     "metadata": {},
     "output_type": "display_data"
    }
   ],
   "source": [
    "tweets_list = []\n",
    "# Using TwitterSearchScraper to scrape data and append tweets to list\n",
    "for i, tweet in tqdm(\n",
    "    enumerate(\n",
    "        sntwitter.TwitterSearchScraper(\n",
    "            f\"kinerja polisi since:2020-01-01 until:2022-12-30\"\n",
    "        ).get_items()\n",
    "    ),\n",
    "    total=12_000,\n",
    "):  # declare a username\n",
    "    if i > 12_000:  # number of tweets you want to scrape\n",
    "        break\n",
    "    tweets_list.append(\n",
    "        [tweet.date, tweet.id, tweet.content, tweet.user.username]\n",
    "    )  # declare the attributes to be returned\n",
    "# Creating a dataframe from the tweets list above\n",
    "tweet_df = pd.DataFrame(\n",
    "    tweets_list, columns=[\"Datetime\", \"Tweet Id\", \"Text\", \"Username\"]\n",
    ")"
   ]
  },
  {
   "attachments": {},
   "cell_type": "markdown",
   "metadata": {},
   "source": [
    "<p>The tweets we're gonna scrape is between 2020-01-01 until 2022-12-30 with the keyword \"kinerja polisi\" \n",
    " And bellow here is some example of the scraped tweets I got from Twitter\"</p>"
   ]
  },
  {
   "cell_type": "code",
   "execution_count": 67,
   "metadata": {},
   "outputs": [
    {
     "data": {
      "text/html": [
       "<div>\n",
       "<style scoped>\n",
       "    .dataframe tbody tr th:only-of-type {\n",
       "        vertical-align: middle;\n",
       "    }\n",
       "\n",
       "    .dataframe tbody tr th {\n",
       "        vertical-align: top;\n",
       "    }\n",
       "\n",
       "    .dataframe thead th {\n",
       "        text-align: right;\n",
       "    }\n",
       "</style>\n",
       "<table border=\"1\" class=\"dataframe\">\n",
       "  <thead>\n",
       "    <tr style=\"text-align: right;\">\n",
       "      <th></th>\n",
       "      <th>Datetime</th>\n",
       "      <th>Tweet Id</th>\n",
       "      <th>Text</th>\n",
       "      <th>Username</th>\n",
       "    </tr>\n",
       "  </thead>\n",
       "  <tbody>\n",
       "    <tr>\n",
       "      <th>0</th>\n",
       "      <td>2022-12-29 13:20:01+00:00</td>\n",
       "      <td>1608452783363231746</td>\n",
       "      <td>Akhiri 2022, Kapolda Jateng Mohon Maaf jika Ki...</td>\n",
       "      <td>GATRA_com</td>\n",
       "    </tr>\n",
       "    <tr>\n",
       "      <th>1</th>\n",
       "      <td>2022-12-29 12:10:00+00:00</td>\n",
       "      <td>1608435161426984962</td>\n",
       "      <td>Gelar Konferensi Pers, Berikut Capaian Kinerja...</td>\n",
       "      <td>TerentangPolisi</td>\n",
       "    </tr>\n",
       "    <tr>\n",
       "      <th>2</th>\n",
       "      <td>2022-12-28 23:54:24+00:00</td>\n",
       "      <td>1608250040610607107</td>\n",
       "      <td>@NarasiNewsroom polisi kontol, yang lu benerin...</td>\n",
       "      <td>Malvin4you</td>\n",
       "    </tr>\n",
       "    <tr>\n",
       "      <th>3</th>\n",
       "      <td>2022-12-28 12:53:47+00:00</td>\n",
       "      <td>1608083791117180930</td>\n",
       "      <td>Dialog papa Al \"Polisi ngk bisa nyari!!!!\" Lah...</td>\n",
       "      <td>NasirChya</td>\n",
       "    </tr>\n",
       "    <tr>\n",
       "      <th>4</th>\n",
       "      <td>2022-12-27 14:44:05+00:00</td>\n",
       "      <td>1607749160824111105</td>\n",
       "      <td>Pertahankan pencapaian Terbaik Melayani Masyar...</td>\n",
       "      <td>NumberthreeT</td>\n",
       "    </tr>\n",
       "    <tr>\n",
       "      <th>5</th>\n",
       "      <td>2022-12-27 14:40:20+00:00</td>\n",
       "      <td>1607748219609714688</td>\n",
       "      <td>Terbaik Melayani Masyarakat di musim liburan t...</td>\n",
       "      <td>Lollycat_Images</td>\n",
       "    </tr>\n",
       "    <tr>\n",
       "      <th>6</th>\n",
       "      <td>2022-12-27 08:57:00+00:00</td>\n",
       "      <td>1607661813927411713</td>\n",
       "      <td>terbukti kinerja polri memang baik. terimakasi...</td>\n",
       "      <td>balabalaa45</td>\n",
       "    </tr>\n",
       "    <tr>\n",
       "      <th>7</th>\n",
       "      <td>2022-12-27 07:30:30+00:00</td>\n",
       "      <td>1607640047502725120</td>\n",
       "      <td>Semangat Pak polisi. Kalian memang hebat. Semo...</td>\n",
       "      <td>yolsdelweiss</td>\n",
       "    </tr>\n",
       "    <tr>\n",
       "      <th>8</th>\n",
       "      <td>2022-12-27 03:39:04+00:00</td>\n",
       "      <td>1607581807415029760</td>\n",
       "      <td>POLISI TIDAK SEMUANYA BAJINGAN, HANYA KARENA S...</td>\n",
       "      <td>MissMegha1717</td>\n",
       "    </tr>\n",
       "    <tr>\n",
       "      <th>9</th>\n",
       "      <td>2022-12-26 15:53:41+00:00</td>\n",
       "      <td>1607404290037133316</td>\n",
       "      <td>@Harian_Jogja Gaji fantastis tapi sayang gak d...</td>\n",
       "      <td>paidjo_slebor</td>\n",
       "    </tr>\n",
       "  </tbody>\n",
       "</table>\n",
       "</div>"
      ],
      "text/plain": [
       "                   Datetime             Tweet Id  \\\n",
       "0 2022-12-29 13:20:01+00:00  1608452783363231746   \n",
       "1 2022-12-29 12:10:00+00:00  1608435161426984962   \n",
       "2 2022-12-28 23:54:24+00:00  1608250040610607107   \n",
       "3 2022-12-28 12:53:47+00:00  1608083791117180930   \n",
       "4 2022-12-27 14:44:05+00:00  1607749160824111105   \n",
       "5 2022-12-27 14:40:20+00:00  1607748219609714688   \n",
       "6 2022-12-27 08:57:00+00:00  1607661813927411713   \n",
       "7 2022-12-27 07:30:30+00:00  1607640047502725120   \n",
       "8 2022-12-27 03:39:04+00:00  1607581807415029760   \n",
       "9 2022-12-26 15:53:41+00:00  1607404290037133316   \n",
       "\n",
       "                                                Text         Username  \n",
       "0  Akhiri 2022, Kapolda Jateng Mohon Maaf jika Ki...        GATRA_com  \n",
       "1  Gelar Konferensi Pers, Berikut Capaian Kinerja...  TerentangPolisi  \n",
       "2  @NarasiNewsroom polisi kontol, yang lu benerin...       Malvin4you  \n",
       "3  Dialog papa Al \"Polisi ngk bisa nyari!!!!\" Lah...        NasirChya  \n",
       "4  Pertahankan pencapaian Terbaik Melayani Masyar...     NumberthreeT  \n",
       "5  Terbaik Melayani Masyarakat di musim liburan t...  Lollycat_Images  \n",
       "6  terbukti kinerja polri memang baik. terimakasi...      balabalaa45  \n",
       "7  Semangat Pak polisi. Kalian memang hebat. Semo...     yolsdelweiss  \n",
       "8  POLISI TIDAK SEMUANYA BAJINGAN, HANYA KARENA S...    MissMegha1717  \n",
       "9  @Harian_Jogja Gaji fantastis tapi sayang gak d...    paidjo_slebor  "
      ]
     },
     "execution_count": 67,
     "metadata": {},
     "output_type": "execute_result"
    }
   ],
   "source": [
    "tweet_df.head(10)"
   ]
  },
  {
   "attachments": {},
   "cell_type": "markdown",
   "metadata": {},
   "source": [
    "<p>From the example ebove we can see that the scraped tweets are completly random, and here is the reason why we do sentiment analysis, is to know whether the people satisfied with the Indonesian police department or not</p>"
   ]
  },
  {
   "attachments": {},
   "cell_type": "markdown",
   "metadata": {},
   "source": [
    "<h3>Model Classifier</h3>"
   ]
  },
  {
   "attachments": {},
   "cell_type": "markdown",
   "metadata": {},
   "source": [
    "<p>The model down here is form the huggingface.co to cut the time used in this analysis</p>"
   ]
  },
  {
   "cell_type": "code",
   "execution_count": 68,
   "metadata": {},
   "outputs": [
    {
     "name": "stderr",
     "output_type": "stream",
     "text": [
      "All model checkpoint layers were used when initializing TFRobertaForSequenceClassification.\n",
      "\n",
      "All the layers of TFRobertaForSequenceClassification were initialized from the model checkpoint at w11wo/indonesian-roberta-base-sentiment-classifier.\n",
      "If your task is similar to the task the model of the checkpoint was trained on, you can already use TFRobertaForSequenceClassification for predictions without further training.\n"
     ]
    },
    {
     "data": {
      "text/plain": [
       "[{'label': 'negative', 'score': 0.9987142086029053}]"
      ]
     },
     "execution_count": 68,
     "metadata": {},
     "output_type": "execute_result"
    }
   ],
   "source": [
    "from transformers import pipeline\n",
    "\n",
    "model = f\"w11wo/indonesian-roberta-base-sentiment-classifier\"\n",
    "sentiment_task = nlp = pipeline(\n",
    "    \"sentiment-analysis\",\n",
    "    model=model,\n",
    "    tokenizer=model\n",
    ")\n",
    "\n",
    "sentiment_task(\"Jangan sampai saya telpon bos saya ya!\")"
   ]
  },
  {
   "attachments": {},
   "cell_type": "markdown",
   "metadata": {},
   "source": [
    "<p>From the example word above we can see that the model has been successfully classify whether the words given is negative or positive, and next we just have to try the model with scraped tweets sample</p>"
   ]
  },
  {
   "cell_type": "code",
   "execution_count": 138,
   "metadata": {},
   "outputs": [
    {
     "data": {
      "text/plain": [
       "'@Harian_Jogja Gaji fantastis tapi sayang gak di imbangi dengan kinerja yg baik,\\nYg ada justru citra polisi yg smakin buruk,'"
      ]
     },
     "execution_count": 138,
     "metadata": {},
     "output_type": "execute_result"
    }
   ],
   "source": [
    "tweet_df['Text'][9]"
   ]
  },
  {
   "cell_type": "code",
   "execution_count": 139,
   "metadata": {},
   "outputs": [
    {
     "data": {
      "text/plain": [
       "[{'label': 'negative', 'score': 0.9959805011749268}]"
      ]
     },
     "execution_count": 139,
     "metadata": {},
     "output_type": "execute_result"
    }
   ],
   "source": [
    "sentiment_task(tweet_df['Text'][9])"
   ]
  },
  {
   "attachments": {},
   "cell_type": "markdown",
   "metadata": {},
   "source": [
    "<p>From the scaped tweet sample above we can see that the model has clearly give a good class to label whether a tweet have negative tendention or not</p>"
   ]
  },
  {
   "attachments": {},
   "cell_type": "markdown",
   "metadata": {},
   "source": [
    "<h3>Classifying Process</h3>"
   ]
  },
  {
   "attachments": {},
   "cell_type": "markdown",
   "metadata": {},
   "source": [
    "<p>Classifying process is where the model is used to label all the tweets sentiment</p>"
   ]
  },
  {
   "cell_type": "code",
   "execution_count": 71,
   "metadata": {},
   "outputs": [
    {
     "data": {
      "text/html": [
       "<div>\n",
       "<style scoped>\n",
       "    .dataframe tbody tr th:only-of-type {\n",
       "        vertical-align: middle;\n",
       "    }\n",
       "\n",
       "    .dataframe tbody tr th {\n",
       "        vertical-align: top;\n",
       "    }\n",
       "\n",
       "    .dataframe thead th {\n",
       "        text-align: right;\n",
       "    }\n",
       "</style>\n",
       "<table border=\"1\" class=\"dataframe\">\n",
       "  <thead>\n",
       "    <tr style=\"text-align: right;\">\n",
       "      <th></th>\n",
       "      <th>label</th>\n",
       "      <th>score</th>\n",
       "    </tr>\n",
       "  </thead>\n",
       "  <tbody>\n",
       "    <tr>\n",
       "      <th>0</th>\n",
       "      <td>negative</td>\n",
       "      <td>0.546972</td>\n",
       "    </tr>\n",
       "    <tr>\n",
       "      <th>1</th>\n",
       "      <td>neutral</td>\n",
       "      <td>0.918845</td>\n",
       "    </tr>\n",
       "    <tr>\n",
       "      <th>2</th>\n",
       "      <td>negative</td>\n",
       "      <td>0.999030</td>\n",
       "    </tr>\n",
       "    <tr>\n",
       "      <th>3</th>\n",
       "      <td>negative</td>\n",
       "      <td>0.959421</td>\n",
       "    </tr>\n",
       "    <tr>\n",
       "      <th>4</th>\n",
       "      <td>positive</td>\n",
       "      <td>0.995242</td>\n",
       "    </tr>\n",
       "  </tbody>\n",
       "</table>\n",
       "</div>"
      ],
      "text/plain": [
       "      label     score\n",
       "0  negative  0.546972\n",
       "1   neutral  0.918845\n",
       "2  negative  0.999030\n",
       "3  negative  0.959421\n",
       "4  positive  0.995242"
      ]
     },
     "execution_count": 71,
     "metadata": {},
     "output_type": "execute_result"
    }
   ],
   "source": [
    "sentt = pd.DataFrame()\n",
    "\n",
    "for i in range(len(tweet_df)):\n",
    "    sentti=pd.DataFrame(sentiment_task(tweet_df['Text'][i]))\n",
    "    sentt = sentt.append(sentti, ignore_index=True)\n",
    "\n",
    "\n",
    "sentt.head()"
   ]
  },
  {
   "attachments": {},
   "cell_type": "markdown",
   "metadata": {},
   "source": [
    "<p>And we can combine the label above with the original dataset to give it a better preview</p>"
   ]
  },
  {
   "cell_type": "code",
   "execution_count": 72,
   "metadata": {},
   "outputs": [
    {
     "data": {
      "text/html": [
       "<div>\n",
       "<style scoped>\n",
       "    .dataframe tbody tr th:only-of-type {\n",
       "        vertical-align: middle;\n",
       "    }\n",
       "\n",
       "    .dataframe tbody tr th {\n",
       "        vertical-align: top;\n",
       "    }\n",
       "\n",
       "    .dataframe thead th {\n",
       "        text-align: right;\n",
       "    }\n",
       "</style>\n",
       "<table border=\"1\" class=\"dataframe\">\n",
       "  <thead>\n",
       "    <tr style=\"text-align: right;\">\n",
       "      <th></th>\n",
       "      <th>Datetime</th>\n",
       "      <th>Tweet Id</th>\n",
       "      <th>Text</th>\n",
       "      <th>Username</th>\n",
       "      <th>Sentiment</th>\n",
       "      <th>Sentiment Score</th>\n",
       "    </tr>\n",
       "  </thead>\n",
       "  <tbody>\n",
       "    <tr>\n",
       "      <th>0</th>\n",
       "      <td>2022-12-29 13:20:01+00:00</td>\n",
       "      <td>1608452783363231746</td>\n",
       "      <td>Akhiri 2022, Kapolda Jateng Mohon Maaf jika Ki...</td>\n",
       "      <td>GATRA_com</td>\n",
       "      <td>negative</td>\n",
       "      <td>0.546972</td>\n",
       "    </tr>\n",
       "    <tr>\n",
       "      <th>1</th>\n",
       "      <td>2022-12-29 12:10:00+00:00</td>\n",
       "      <td>1608435161426984962</td>\n",
       "      <td>Gelar Konferensi Pers, Berikut Capaian Kinerja...</td>\n",
       "      <td>TerentangPolisi</td>\n",
       "      <td>neutral</td>\n",
       "      <td>0.918845</td>\n",
       "    </tr>\n",
       "    <tr>\n",
       "      <th>2</th>\n",
       "      <td>2022-12-28 23:54:24+00:00</td>\n",
       "      <td>1608250040610607107</td>\n",
       "      <td>@NarasiNewsroom polisi kontol, yang lu benerin...</td>\n",
       "      <td>Malvin4you</td>\n",
       "      <td>negative</td>\n",
       "      <td>0.999030</td>\n",
       "    </tr>\n",
       "    <tr>\n",
       "      <th>3</th>\n",
       "      <td>2022-12-28 12:53:47+00:00</td>\n",
       "      <td>1608083791117180930</td>\n",
       "      <td>Dialog papa Al \"Polisi ngk bisa nyari!!!!\" Lah...</td>\n",
       "      <td>NasirChya</td>\n",
       "      <td>negative</td>\n",
       "      <td>0.959421</td>\n",
       "    </tr>\n",
       "    <tr>\n",
       "      <th>4</th>\n",
       "      <td>2022-12-27 14:44:05+00:00</td>\n",
       "      <td>1607749160824111105</td>\n",
       "      <td>Pertahankan pencapaian Terbaik Melayani Masyar...</td>\n",
       "      <td>NumberthreeT</td>\n",
       "      <td>positive</td>\n",
       "      <td>0.995242</td>\n",
       "    </tr>\n",
       "  </tbody>\n",
       "</table>\n",
       "</div>"
      ],
      "text/plain": [
       "                   Datetime             Tweet Id  \\\n",
       "0 2022-12-29 13:20:01+00:00  1608452783363231746   \n",
       "1 2022-12-29 12:10:00+00:00  1608435161426984962   \n",
       "2 2022-12-28 23:54:24+00:00  1608250040610607107   \n",
       "3 2022-12-28 12:53:47+00:00  1608083791117180930   \n",
       "4 2022-12-27 14:44:05+00:00  1607749160824111105   \n",
       "\n",
       "                                                Text         Username  \\\n",
       "0  Akhiri 2022, Kapolda Jateng Mohon Maaf jika Ki...        GATRA_com   \n",
       "1  Gelar Konferensi Pers, Berikut Capaian Kinerja...  TerentangPolisi   \n",
       "2  @NarasiNewsroom polisi kontol, yang lu benerin...       Malvin4you   \n",
       "3  Dialog papa Al \"Polisi ngk bisa nyari!!!!\" Lah...        NasirChya   \n",
       "4  Pertahankan pencapaian Terbaik Melayani Masyar...     NumberthreeT   \n",
       "\n",
       "  Sentiment  Sentiment Score  \n",
       "0  negative         0.546972  \n",
       "1   neutral         0.918845  \n",
       "2  negative         0.999030  \n",
       "3  negative         0.959421  \n",
       "4  positive         0.995242  "
      ]
     },
     "execution_count": 72,
     "metadata": {},
     "output_type": "execute_result"
    }
   ],
   "source": [
    "tweet_df['Sentiment']=sentt['label']\n",
    "tweet_df['Sentiment Score']=sentt['score']\n",
    "\n",
    "tweet_df.head()"
   ]
  },
  {
   "attachments": {},
   "cell_type": "markdown",
   "metadata": {},
   "source": [
    "<p>Saving the data into the local storage in case the data will be needed in the future</p>"
   ]
  },
  {
   "cell_type": "code",
   "execution_count": 109,
   "metadata": {},
   "outputs": [],
   "source": [
    "#import the dataset we got from scrapping\n",
    "tweet_df.to_csv(\"sentiment_polri.csv\", index=False)"
   ]
  },
  {
   "cell_type": "code",
   "execution_count": 132,
   "metadata": {},
   "outputs": [],
   "source": [
    "#make the color dictionary\n",
    "colorused = {'negative':'#e63946',\n",
    "          'positive':'#219ebc',\n",
    "          'neutral' : '#e6ccb2'}"
   ]
  },
  {
   "cell_type": "code",
   "execution_count": 144,
   "metadata": {},
   "outputs": [
    {
     "data": {
      "image/png": "[encoded data removed]",
      "text/plain": [
       "<Figure size 1200x200 with 3 Axes>"
      ]
     },
     "metadata": {},
     "output_type": "display_data"
    }
   ],
   "source": [
    "#plot the figure format\n",
    "plt.figure(figsize=(12,2))\n",
    "plt.suptitle('Color For Each Label', y = 1, fontsize = 16)\n",
    "a, b, c = 1, 3, 1   # rows, columns, counter\n",
    "\n",
    "#plot each color\n",
    "for x in colorused:\n",
    "    plt.subplot(a, b, c)  # row, column, counter\n",
    "    plt.axis('off')\n",
    "    plt.title(x, fontsize = 14)\n",
    "    plt.hlines(0,0,10, color = colorused[x] ,linestyles = 'solid', linewidth = 35)\n",
    "    c = c + 1\n",
    "\n",
    "plt.tight_layout()\n",
    "plt.show()"
   ]
  },
  {
   "cell_type": "code",
   "execution_count": 162,
   "metadata": {},
   "outputs": [
    {
     "name": "stdout",
     "output_type": "stream",
     "text": [
      "0\n"
     ]
    }
   ],
   "source": [
    "sentiment_masyarakat = pd.DataFrame(tweet_df['Sentiment'].value_counts())\n",
    "max_index = sentiment_masyarakat['Sentiment'].idxmax()\n",
    "max_index = sentiment_masyarakat.index.get_loc(max_index)\n",
    "print(max_index) "
   ]
  },
  {
   "cell_type": "code",
   "execution_count": 164,
   "metadata": {},
   "outputs": [
    {
     "data": {
      "text/html": [
       "<div>\n",
       "<style scoped>\n",
       "    .dataframe tbody tr th:only-of-type {\n",
       "        vertical-align: middle;\n",
       "    }\n",
       "\n",
       "    .dataframe tbody tr th {\n",
       "        vertical-align: top;\n",
       "    }\n",
       "\n",
       "    .dataframe thead th {\n",
       "        text-align: right;\n",
       "    }\n",
       "</style>\n",
       "<table border=\"1\" class=\"dataframe\">\n",
       "  <thead>\n",
       "    <tr style=\"text-align: right;\">\n",
       "      <th></th>\n",
       "      <th>Sentiment</th>\n",
       "    </tr>\n",
       "  </thead>\n",
       "  <tbody>\n",
       "    <tr>\n",
       "      <th>negative</th>\n",
       "      <td>2975</td>\n",
       "    </tr>\n",
       "    <tr>\n",
       "      <th>neutral</th>\n",
       "      <td>2617</td>\n",
       "    </tr>\n",
       "    <tr>\n",
       "      <th>positive</th>\n",
       "      <td>1574</td>\n",
       "    </tr>\n",
       "  </tbody>\n",
       "</table>\n",
       "</div>"
      ],
      "text/plain": [
       "          Sentiment\n",
       "negative       2975\n",
       "neutral        2617\n",
       "positive       1574"
      ]
     },
     "execution_count": 164,
     "metadata": {},
     "output_type": "execute_result"
    }
   ],
   "source": [
    "#make the sentiment data to be in dataframe format\n",
    "sentiment_masyarakat = pd.DataFrame(tweet_df['Sentiment'].value_counts())\n",
    "sentiment_masyarakat.head()"
   ]
  },
  {
   "cell_type": "code",
   "execution_count": 172,
   "metadata": {},
   "outputs": [
    {
     "data": {
      "image/png": "[encoded data removed]",
      "text/plain": [
       "<Figure size 800x600 with 1 Axes>"
      ]
     },
     "metadata": {},
     "output_type": "display_data"
    }
   ],
   "source": [
    "#make the sentiment data to be in dataframe format\n",
    "sentiment_masyarakat = pd.DataFrame(tweet_df['Sentiment'].value_counts())\n",
    "\n",
    "#plot the sum of sentiment\n",
    "fig, ax = plt.subplots(figsize=(8,6))\n",
    "wedges, labels, autotexts = ax.pie(sentiment_masyarakat['Sentiment'], labels=sentiment_masyarakat.index, autopct='%1.1f%%', shadow=False, startangle=90, colors=[colorused[label] for label in sentiment_masyarakat.index])\n",
    "max_index = sentiment_masyarakat['Sentiment'].idxmax()\n",
    "max_index = sentiment_masyarakat.index.get_loc(max_index)\n",
    "labels[max_index].set_fontweight('bold')\n",
    "\n",
    "ax.set_title(\"Public Sentiment in Last 3 Years\")\n",
    "plt.show()"
   ]
  },
  {
   "attachments": {},
   "cell_type": "markdown",
   "metadata": {},
   "source": [
    "<p>From the pie chart above we can clearly see that the police departemen in Indonesia have mostly negative sentiment from the community which is 41.5% , and the sad part is the positive sentiment is even lower than the neutral sentiment</p>"
   ]
  },
  {
   "attachments": {},
   "cell_type": "markdown",
   "metadata": {},
   "source": [
    "<h3>Look Down For Each Year</h3>"
   ]
  },
  {
   "attachments": {},
   "cell_type": "markdown",
   "metadata": {},
   "source": [
    "<p>The reason why I want to look up for each year is to know how the sentiment trends going each year</p>\n",
    "\n",
    "<p>Here I devide the trend into 3 different years, which are 2020, 2021, and 2022</p>"
   ]
  },
  {
   "cell_type": "code",
   "execution_count": 91,
   "metadata": {},
   "outputs": [
    {
     "name": "stdout",
     "output_type": "stream",
     "text": [
      "the data separated from 2020-01-01 09:25:00+00:00 until 2020-12-31 13:58:20+00:00\n"
     ]
    },
    {
     "data": {
      "text/html": [
       "<div>\n",
       "<style scoped>\n",
       "    .dataframe tbody tr th:only-of-type {\n",
       "        vertical-align: middle;\n",
       "    }\n",
       "\n",
       "    .dataframe tbody tr th {\n",
       "        vertical-align: top;\n",
       "    }\n",
       "\n",
       "    .dataframe thead th {\n",
       "        text-align: right;\n",
       "    }\n",
       "</style>\n",
       "<table border=\"1\" class=\"dataframe\">\n",
       "  <thead>\n",
       "    <tr style=\"text-align: right;\">\n",
       "      <th></th>\n",
       "      <th>Datetime</th>\n",
       "      <th>Tweet Id</th>\n",
       "      <th>Text</th>\n",
       "      <th>Username</th>\n",
       "      <th>Sentiment</th>\n",
       "      <th>Sentiment Score</th>\n",
       "    </tr>\n",
       "  </thead>\n",
       "  <tbody>\n",
       "    <tr>\n",
       "      <th>5318</th>\n",
       "      <td>2020-12-31 13:58:20+00:00</td>\n",
       "      <td>1344644057880907780</td>\n",
       "      <td>#NurulNonton\\nTHE PHARMACIST (2020)\\n\\nTentang...</td>\n",
       "      <td>helmfulfes</td>\n",
       "      <td>negative</td>\n",
       "      <td>0.606645</td>\n",
       "    </tr>\n",
       "    <tr>\n",
       "      <th>5319</th>\n",
       "      <td>2020-12-30 15:11:30+00:00</td>\n",
       "      <td>1344300084314292224</td>\n",
       "      <td>Kinerja polisi di tahun 2020 https://t.co/4vyG...</td>\n",
       "      <td>aryalnazry</td>\n",
       "      <td>neutral</td>\n",
       "      <td>0.996722</td>\n",
       "    </tr>\n",
       "    <tr>\n",
       "      <th>5320</th>\n",
       "      <td>2020-12-30 10:34:59+00:00</td>\n",
       "      <td>1344230495027040257</td>\n",
       "      <td>Beginilah kehebatan kinerja polisi yang sebena...</td>\n",
       "      <td>alfinrmdhnn</td>\n",
       "      <td>positive</td>\n",
       "      <td>0.937522</td>\n",
       "    </tr>\n",
       "    <tr>\n",
       "      <th>5321</th>\n",
       "      <td>2020-12-30 08:15:02+00:00</td>\n",
       "      <td>1344195274701336578</td>\n",
       "      <td>Ada Ribuan Kasus Penipuan Online, DPR Pertanya...</td>\n",
       "      <td>GoRiauCom</td>\n",
       "      <td>neutral</td>\n",
       "      <td>0.947778</td>\n",
       "    </tr>\n",
       "    <tr>\n",
       "      <th>5322</th>\n",
       "      <td>2020-12-30 03:34:49+00:00</td>\n",
       "      <td>1344124756002394113</td>\n",
       "      <td>6 warga sipil tak bersalah ini di bunuh tanpa ...</td>\n",
       "      <td>HukumDan</td>\n",
       "      <td>negative</td>\n",
       "      <td>0.998996</td>\n",
       "    </tr>\n",
       "  </tbody>\n",
       "</table>\n",
       "</div>"
      ],
      "text/plain": [
       "                      Datetime             Tweet Id  \\\n",
       "5318 2020-12-31 13:58:20+00:00  1344644057880907780   \n",
       "5319 2020-12-30 15:11:30+00:00  1344300084314292224   \n",
       "5320 2020-12-30 10:34:59+00:00  1344230495027040257   \n",
       "5321 2020-12-30 08:15:02+00:00  1344195274701336578   \n",
       "5322 2020-12-30 03:34:49+00:00  1344124756002394113   \n",
       "\n",
       "                                                   Text     Username  \\\n",
       "5318  #NurulNonton\\nTHE PHARMACIST (2020)\\n\\nTentang...   helmfulfes   \n",
       "5319  Kinerja polisi di tahun 2020 https://t.co/4vyG...   aryalnazry   \n",
       "5320  Beginilah kehebatan kinerja polisi yang sebena...  alfinrmdhnn   \n",
       "5321  Ada Ribuan Kasus Penipuan Online, DPR Pertanya...    GoRiauCom   \n",
       "5322  6 warga sipil tak bersalah ini di bunuh tanpa ...     HukumDan   \n",
       "\n",
       "     Sentiment  Sentiment Score  \n",
       "5318  negative         0.606645  \n",
       "5319   neutral         0.996722  \n",
       "5320  positive         0.937522  \n",
       "5321   neutral         0.947778  \n",
       "5322  negative         0.998996  "
      ]
     },
     "execution_count": 91,
     "metadata": {},
     "output_type": "execute_result"
    }
   ],
   "source": [
    "sentiment2020 = tweet_df.loc[tweet_df['Datetime'] < '2021-01-01']\n",
    "\n",
    "print(\"the data separated from {} until {}\". format(sentiment2020['Datetime'].min(), sentiment2020['Datetime'].max()))\n",
    "sentiment2020.head()"
   ]
  },
  {
   "cell_type": "code",
   "execution_count": 150,
   "metadata": {},
   "outputs": [
    {
     "name": "stdout",
     "output_type": "stream",
     "text": [
      "the data separated from 2020-01-01 09:25:00+00:00 until 2021-12-31 23:32:21+00:00\n"
     ]
    },
    {
     "data": {
      "text/html": [
       "<div>\n",
       "<style scoped>\n",
       "    .dataframe tbody tr th:only-of-type {\n",
       "        vertical-align: middle;\n",
       "    }\n",
       "\n",
       "    .dataframe tbody tr th {\n",
       "        vertical-align: top;\n",
       "    }\n",
       "\n",
       "    .dataframe thead th {\n",
       "        text-align: right;\n",
       "    }\n",
       "</style>\n",
       "<table border=\"1\" class=\"dataframe\">\n",
       "  <thead>\n",
       "    <tr style=\"text-align: right;\">\n",
       "      <th></th>\n",
       "      <th>Datetime</th>\n",
       "      <th>Tweet Id</th>\n",
       "      <th>Text</th>\n",
       "      <th>Username</th>\n",
       "      <th>Sentiment</th>\n",
       "      <th>Sentiment Score</th>\n",
       "    </tr>\n",
       "  </thead>\n",
       "  <tbody>\n",
       "    <tr>\n",
       "      <th>2608</th>\n",
       "      <td>2021-12-31 23:32:21+00:00</td>\n",
       "      <td>1477060085666881537</td>\n",
       "      <td>@republikaonline Ga efektif, cuma bagi-bagi ja...</td>\n",
       "      <td>JamilulKh</td>\n",
       "      <td>negative</td>\n",
       "      <td>0.986566</td>\n",
       "    </tr>\n",
       "    <tr>\n",
       "      <th>2609</th>\n",
       "      <td>2021-12-31 04:21:33+00:00</td>\n",
       "      <td>1476770475757867010</td>\n",
       "      <td>#percumalaporpolisi adalah elspresi kekecewaan...</td>\n",
       "      <td>sobisy</td>\n",
       "      <td>negative</td>\n",
       "      <td>0.641366</td>\n",
       "    </tr>\n",
       "    <tr>\n",
       "      <th>2610</th>\n",
       "      <td>2021-12-31 03:53:48+00:00</td>\n",
       "      <td>1476763494326308869</td>\n",
       "      <td>Kunjungi Polda Jateng, Menhub Apresiasi Kinerj...</td>\n",
       "      <td>AwalMediaN</td>\n",
       "      <td>neutral</td>\n",
       "      <td>0.962179</td>\n",
       "    </tr>\n",
       "    <tr>\n",
       "      <th>2611</th>\n",
       "      <td>2021-12-31 03:47:56+00:00</td>\n",
       "      <td>1476762017046269952</td>\n",
       "      <td>@txtdrberseragam Lama² bisa kejadian kyk mexic...</td>\n",
       "      <td>el_saintx</td>\n",
       "      <td>negative</td>\n",
       "      <td>0.998973</td>\n",
       "    </tr>\n",
       "    <tr>\n",
       "      <th>2612</th>\n",
       "      <td>2021-12-31 03:39:11+00:00</td>\n",
       "      <td>1476759814428520449</td>\n",
       "      <td>@evianafs Haha, yg posting juga kayaknya gk mu...</td>\n",
       "      <td>harlanpradana</td>\n",
       "      <td>negative</td>\n",
       "      <td>0.985610</td>\n",
       "    </tr>\n",
       "  </tbody>\n",
       "</table>\n",
       "</div>"
      ],
      "text/plain": [
       "                      Datetime             Tweet Id  \\\n",
       "2608 2021-12-31 23:32:21+00:00  1477060085666881537   \n",
       "2609 2021-12-31 04:21:33+00:00  1476770475757867010   \n",
       "2610 2021-12-31 03:53:48+00:00  1476763494326308869   \n",
       "2611 2021-12-31 03:47:56+00:00  1476762017046269952   \n",
       "2612 2021-12-31 03:39:11+00:00  1476759814428520449   \n",
       "\n",
       "                                                   Text       Username  \\\n",
       "2608  @republikaonline Ga efektif, cuma bagi-bagi ja...      JamilulKh   \n",
       "2609  #percumalaporpolisi adalah elspresi kekecewaan...         sobisy   \n",
       "2610  Kunjungi Polda Jateng, Menhub Apresiasi Kinerj...     AwalMediaN   \n",
       "2611  @txtdrberseragam Lama² bisa kejadian kyk mexic...      el_saintx   \n",
       "2612  @evianafs Haha, yg posting juga kayaknya gk mu...  harlanpradana   \n",
       "\n",
       "     Sentiment  Sentiment Score  \n",
       "2608  negative         0.986566  \n",
       "2609  negative         0.641366  \n",
       "2610   neutral         0.962179  \n",
       "2611  negative         0.998973  \n",
       "2612  negative         0.985610  "
      ]
     },
     "execution_count": 150,
     "metadata": {},
     "output_type": "execute_result"
    }
   ],
   "source": [
    "sentiment2021 = tweet_df.loc[tweet_df['Datetime'] >= '2021-01-01']\n",
    "sentiment2021 = tweet_df.loc[tweet_df['Datetime'] < '2022-01-01']\n",
    "\n",
    "print(\"the data separated from {} until {}\". format(sentiment2021['Datetime'].min(), sentiment2021['Datetime'].max()))\n",
    "sentiment2021.head()"
   ]
  },
  {
   "cell_type": "code",
   "execution_count": 151,
   "metadata": {},
   "outputs": [
    {
     "name": "stdout",
     "output_type": "stream",
     "text": [
      "the data separated from 2022-01-01 03:31:03+00:00 until 2022-12-29 13:20:01+00:00\n"
     ]
    },
    {
     "data": {
      "text/html": [
       "<div>\n",
       "<style scoped>\n",
       "    .dataframe tbody tr th:only-of-type {\n",
       "        vertical-align: middle;\n",
       "    }\n",
       "\n",
       "    .dataframe tbody tr th {\n",
       "        vertical-align: top;\n",
       "    }\n",
       "\n",
       "    .dataframe thead th {\n",
       "        text-align: right;\n",
       "    }\n",
       "</style>\n",
       "<table border=\"1\" class=\"dataframe\">\n",
       "  <thead>\n",
       "    <tr style=\"text-align: right;\">\n",
       "      <th></th>\n",
       "      <th>Datetime</th>\n",
       "      <th>Tweet Id</th>\n",
       "      <th>Text</th>\n",
       "      <th>Username</th>\n",
       "      <th>Sentiment</th>\n",
       "      <th>Sentiment Score</th>\n",
       "    </tr>\n",
       "  </thead>\n",
       "  <tbody>\n",
       "    <tr>\n",
       "      <th>0</th>\n",
       "      <td>2022-12-29 13:20:01+00:00</td>\n",
       "      <td>1608452783363231746</td>\n",
       "      <td>Akhiri 2022, Kapolda Jateng Mohon Maaf jika Ki...</td>\n",
       "      <td>GATRA_com</td>\n",
       "      <td>negative</td>\n",
       "      <td>0.546972</td>\n",
       "    </tr>\n",
       "    <tr>\n",
       "      <th>1</th>\n",
       "      <td>2022-12-29 12:10:00+00:00</td>\n",
       "      <td>1608435161426984962</td>\n",
       "      <td>Gelar Konferensi Pers, Berikut Capaian Kinerja...</td>\n",
       "      <td>TerentangPolisi</td>\n",
       "      <td>neutral</td>\n",
       "      <td>0.918845</td>\n",
       "    </tr>\n",
       "    <tr>\n",
       "      <th>2</th>\n",
       "      <td>2022-12-28 23:54:24+00:00</td>\n",
       "      <td>1608250040610607107</td>\n",
       "      <td>@NarasiNewsroom polisi kontol, yang lu benerin...</td>\n",
       "      <td>Malvin4you</td>\n",
       "      <td>negative</td>\n",
       "      <td>0.999030</td>\n",
       "    </tr>\n",
       "    <tr>\n",
       "      <th>3</th>\n",
       "      <td>2022-12-28 12:53:47+00:00</td>\n",
       "      <td>1608083791117180930</td>\n",
       "      <td>Dialog papa Al \"Polisi ngk bisa nyari!!!!\" Lah...</td>\n",
       "      <td>NasirChya</td>\n",
       "      <td>negative</td>\n",
       "      <td>0.959421</td>\n",
       "    </tr>\n",
       "    <tr>\n",
       "      <th>4</th>\n",
       "      <td>2022-12-27 14:44:05+00:00</td>\n",
       "      <td>1607749160824111105</td>\n",
       "      <td>Pertahankan pencapaian Terbaik Melayani Masyar...</td>\n",
       "      <td>NumberthreeT</td>\n",
       "      <td>positive</td>\n",
       "      <td>0.995242</td>\n",
       "    </tr>\n",
       "  </tbody>\n",
       "</table>\n",
       "</div>"
      ],
      "text/plain": [
       "                   Datetime             Tweet Id  \\\n",
       "0 2022-12-29 13:20:01+00:00  1608452783363231746   \n",
       "1 2022-12-29 12:10:00+00:00  1608435161426984962   \n",
       "2 2022-12-28 23:54:24+00:00  1608250040610607107   \n",
       "3 2022-12-28 12:53:47+00:00  1608083791117180930   \n",
       "4 2022-12-27 14:44:05+00:00  1607749160824111105   \n",
       "\n",
       "                                                Text         Username  \\\n",
       "0  Akhiri 2022, Kapolda Jateng Mohon Maaf jika Ki...        GATRA_com   \n",
       "1  Gelar Konferensi Pers, Berikut Capaian Kinerja...  TerentangPolisi   \n",
       "2  @NarasiNewsroom polisi kontol, yang lu benerin...       Malvin4you   \n",
       "3  Dialog papa Al \"Polisi ngk bisa nyari!!!!\" Lah...        NasirChya   \n",
       "4  Pertahankan pencapaian Terbaik Melayani Masyar...     NumberthreeT   \n",
       "\n",
       "  Sentiment  Sentiment Score  \n",
       "0  negative         0.546972  \n",
       "1   neutral         0.918845  \n",
       "2  negative         0.999030  \n",
       "3  negative         0.959421  \n",
       "4  positive         0.995242  "
      ]
     },
     "execution_count": 151,
     "metadata": {},
     "output_type": "execute_result"
    }
   ],
   "source": [
    "sentiment2022 = tweet_df.loc[tweet_df['Datetime'] >= '2022-01-01']\n",
    "\n",
    "print(\"the data separated from {} until {}\". format(sentiment2022['Datetime'].min(), sentiment2022['Datetime'].max()))\n",
    "sentiment2022.head()"
   ]
  },
  {
   "attachments": {},
   "cell_type": "markdown",
   "metadata": {},
   "source": [
    "<p>Now I can seperately printout the piechart for each year</p>"
   ]
  },
  {
   "cell_type": "code",
   "execution_count": 170,
   "metadata": {},
   "outputs": [
    {
     "data": {
      "text/plain": [
       "Text(0.5, 1.0, 'Public Sentiment in 2022')"
      ]
     },
     "execution_count": 170,
     "metadata": {},
     "output_type": "execute_result"
    },
    {
     "data": {
      "image/png": "[encoded data removed]",
      "text/plain": [
       "<Figure size 2000x2000 with 3 Axes>"
      ]
     },
     "metadata": {},
     "output_type": "display_data"
    }
   ],
   "source": [
    "#make all the sentiment data to be datarfame format\n",
    "sentimentmasy2020 = pd.DataFrame(sentiment2020['Sentiment'].value_counts())\n",
    "sentimentmasy2021 = pd.DataFrame(sentiment2021['Sentiment'].value_counts())\n",
    "sentimentmasy2022 = pd.DataFrame(sentiment2022['Sentiment'].value_counts())\n",
    "\n",
    "\n",
    "# create a figure with three subplots\n",
    "fig, (ax1, ax2, ax3) = plt.subplots(nrows=1, ncols=3, figsize = (20, 20))\n",
    "\n",
    "# plot the first set of data on the first subplot\n",
    "wedges, labels, autotexts = ax1.pie(sentimentmasy2020['Sentiment'], labels=sentimentmasy2020.index, autopct='%1.1f%%', shadow=False, startangle=90, colors=[colorused[label] for label in sentimentmasy2020.index])\n",
    "max_index = sentimentmasy2020['Sentiment'].idxmax()\n",
    "max_index = sentimentmasy2020.index.get_loc(max_index)\n",
    "labels[max_index].set_fontweight('bold')\n",
    "ax1.set_title(\"Public Sentiment in 2020\")\n",
    "\n",
    "# plot the second set of data on the second subplot\n",
    "wedges, labels, autotexts = ax2.pie(sentimentmasy2021['Sentiment'], labels=sentimentmasy2021.index, autopct='%1.1f%%', shadow=False, startangle=90, colors=[colorused[label] for label in sentimentmasy2021.index])\n",
    "max_index = sentimentmasy2021['Sentiment'].idxmax()\n",
    "max_index = sentimentmasy2021.index.get_loc(max_index)\n",
    "labels[max_index].set_fontweight('bold')\n",
    "ax2.set_title(\"Public Sentiment in 2021\")\n",
    "\n",
    "# plot the third set of data on the third subplot\n",
    "wedges, labels, autotexts = ax3.pie(sentimentmasy2022['Sentiment'], labels=sentimentmasy2022.index, autopct='%1.1f%%', shadow=False, startangle=90, colors=[colorused[label] for label in sentimentmasy2022.index])\n",
    "max_index = sentimentmasy2022['Sentiment'].idxmax()\n",
    "max_index = sentimentmasy2022.index.get_loc(max_index)\n",
    "labels[max_index].set_fontweight('bold')\n",
    "ax3.set_title(\"Public Sentiment in 2022\")\n",
    "\n"
   ]
  },
  {
   "attachments": {},
   "cell_type": "markdown",
   "metadata": {},
   "source": [
    "<p>From the plot above we can see that the sentiment trend tends to the negative side from 2020 to 2022, with it's peak is at 2022 where the negative sentiment is more than 50% (57.1%) and the positive sentiment is even less than the neutral sentiment</p>"
   ]
  }
 ],
 "metadata": {
  "kernelspec": {
   "display_name": "Data Science",
   "language": "python",
   "name": "python3"
  },
  "language_info": {
   "codemirror_mode": {
    "name": "ipython",
    "version": 3
   },
   "file_extension": ".py",
   "mimetype": "text/x-python",
   "name": "python",
   "nbconvert_exporter": "python",
   "pygments_lexer": "ipython3",
   "version": "3.8.8"
  },
  "orig_nbformat": 4,
  "vscode": {
   "interpreter": {
    "hash": "8433d511ccb49b204f94a973d31927361a1e7995daf8da4b179eed2d99af5939"
   }
  }
 },
 "nbformat": 4,
 "nbformat_minor": 2
}
