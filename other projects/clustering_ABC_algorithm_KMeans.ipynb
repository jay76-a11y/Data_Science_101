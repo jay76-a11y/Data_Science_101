{
 "cells": [
  {
   "cell_type": "markdown",
   "metadata": {},
   "source": [
    "Pertama import library yang akan dipake"
   ]
  },
  {
   "cell_type": "code",
   "execution_count": 2,
   "metadata": {},
   "outputs": [],
   "source": [
    "import numpy as np\n",
    "from sklearn.cluster import KMeans\n",
    "from sklearn.metrics import silhouette_score, davies_bouldin_score\n",
    "import copy\n",
    "import warnings\n",
    "import matplotlib.pyplot as plt\n",
    "import pandas as pd\n",
    "import csv\n",
    "import random\n",
    "random.seed(42) #agar hasil random bisa konsisten \n",
    "warnings.filterwarnings('ignore')"
   ]
  },
  {
   "cell_type": "markdown",
   "metadata": {},
   "source": [
    "<h2>Import dan Cleaning Data</h2>"
   ]
  },
  {
   "cell_type": "code",
   "execution_count": 3,
   "metadata": {},
   "outputs": [
    {
     "data": {
      "text/html": [
       "<div>\n",
       "<style scoped>\n",
       "    .dataframe tbody tr th:only-of-type {\n",
       "        vertical-align: middle;\n",
       "    }\n",
       "\n",
       "    .dataframe tbody tr th {\n",
       "        vertical-align: top;\n",
       "    }\n",
       "\n",
       "    .dataframe thead th {\n",
       "        text-align: right;\n",
       "    }\n",
       "</style>\n",
       "<table border=\"1\" class=\"dataframe\">\n",
       "  <thead>\n",
       "    <tr style=\"text-align: right;\">\n",
       "      <th></th>\n",
       "      <th>PM10</th>\n",
       "      <th>SO2</th>\n",
       "      <th>O3</th>\n",
       "      <th>NO2</th>\n",
       "      <th>CO</th>\n",
       "    </tr>\n",
       "  </thead>\n",
       "  <tbody>\n",
       "    <tr>\n",
       "      <th>0</th>\n",
       "      <td>13.83</td>\n",
       "      <td>4.54</td>\n",
       "      <td>5.46</td>\n",
       "      <td>0.54</td>\n",
       "      <td>0.33</td>\n",
       "    </tr>\n",
       "    <tr>\n",
       "      <th>1</th>\n",
       "      <td>6.44</td>\n",
       "      <td>0.00</td>\n",
       "      <td>3.11</td>\n",
       "      <td>0.00</td>\n",
       "      <td>0.00</td>\n",
       "    </tr>\n",
       "    <tr>\n",
       "      <th>2</th>\n",
       "      <td>0.00</td>\n",
       "      <td>0.00</td>\n",
       "      <td>0.00</td>\n",
       "      <td>0.00</td>\n",
       "      <td>0.00</td>\n",
       "    </tr>\n",
       "    <tr>\n",
       "      <th>3</th>\n",
       "      <td>0.00</td>\n",
       "      <td>0.00</td>\n",
       "      <td>0.00</td>\n",
       "      <td>0.00</td>\n",
       "      <td>0.00</td>\n",
       "    </tr>\n",
       "    <tr>\n",
       "      <th>4</th>\n",
       "      <td>0.00</td>\n",
       "      <td>0.00</td>\n",
       "      <td>0.00</td>\n",
       "      <td>0.00</td>\n",
       "      <td>0.00</td>\n",
       "    </tr>\n",
       "  </tbody>\n",
       "</table>\n",
       "</div>"
      ],
      "text/plain": [
       "    PM10   SO2    O3   NO2    CO\n",
       "0  13.83  4.54  5.46  0.54  0.33\n",
       "1   6.44  0.00  3.11  0.00  0.00\n",
       "2   0.00  0.00  0.00  0.00  0.00\n",
       "3   0.00  0.00  0.00  0.00  0.00\n",
       "4   0.00  0.00  0.00  0.00  0.00"
      ]
     },
     "execution_count": 3,
     "metadata": {},
     "output_type": "execute_result"
    }
   ],
   "source": [
    "df = pd.read_csv(\"datasets/udara.data.csv\", header=None)\n",
    "df.rename(columns={0:\"PM10\", 1:\"SO2\", 2:\"O3\", 3:\"NO2\", 4:\"CO\"}, inplace=True)\n",
    "df[\"SO2\"] = df[\"SO2\"].astype(float)\n",
    "df[\"CO\"] = df[\"CO\"].astype(float)\n",
    "df.head()"
   ]
  },
  {
   "cell_type": "code",
   "execution_count": 4,
   "metadata": {},
   "outputs": [
    {
     "name": "stdout",
     "output_type": "stream",
     "text": [
      "<class 'pandas.core.frame.DataFrame'>\n",
      "RangeIndex: 365 entries, 0 to 364\n",
      "Data columns (total 5 columns):\n",
      " #   Column  Non-Null Count  Dtype  \n",
      "---  ------  --------------  -----  \n",
      " 0   PM10    365 non-null    float64\n",
      " 1   SO2     365 non-null    float64\n",
      " 2   O3      365 non-null    float64\n",
      " 3   NO2     365 non-null    float64\n",
      " 4   CO      365 non-null    float64\n",
      "dtypes: float64(5)\n",
      "memory usage: 14.4 KB\n"
     ]
    }
   ],
   "source": [
    "df.info()"
   ]
  },
  {
   "cell_type": "code",
   "execution_count": 5,
   "metadata": {},
   "outputs": [
    {
     "name": "stdout",
     "output_type": "stream",
     "text": [
      "[[ 5.46    0.33  ]\n",
      " [ 3.11    0.    ]\n",
      " [ 0.      0.    ]\n",
      " [ 0.      0.    ]\n",
      " [ 0.      0.    ]\n",
      " [ 0.      0.    ]\n",
      " [ 0.      0.    ]\n",
      " [ 0.      0.    ]\n",
      " [ 0.      0.    ]\n",
      " [ 0.      0.    ]\n",
      " [ 3.37    6.68  ]\n",
      " [ 3.67    6.    ]\n",
      " [ 4.      4.38  ]\n",
      " [ 4.46    6.33  ]\n",
      " [ 4.63    8.04  ]\n",
      " [ 4.     10.25  ]\n",
      " [ 4.      7.46  ]\n",
      " [ 4.58    8.33  ]\n",
      " [ 5.     10.5   ]\n",
      " [ 5.54   28.63  ]\n",
      " [ 6.     32.    ]\n",
      " [ 5.96   29.17  ]\n",
      " [ 5.     11.42  ]\n",
      " [ 4.92    9.    ]\n",
      " [ 2.58   12.38  ]\n",
      " [ 2.     16.5   ]\n",
      " [ 2.83   19.46  ]\n",
      " [ 3.     21.71  ]\n",
      " [ 3.     27.54  ]\n",
      " [ 3.     29.58  ]\n",
      " [ 3.     27.79  ]\n",
      " [ 3.     27.08  ]\n",
      " [ 3.     28.83  ]\n",
      " [ 3.     28.83  ]\n",
      " [ 3.     31.08  ]\n",
      " [ 3.     30.71  ]\n",
      " [ 3.     30.    ]\n",
      " [ 3.     30.46  ]\n",
      " [ 3.     31.    ]\n",
      " [ 3.67   31.    ]\n",
      " [ 4.     31.33  ]\n",
      " [ 4.     32.    ]\n",
      " [ 4.     32.    ]\n",
      " [ 0.      0.    ]\n",
      " [ 0.      0.    ]\n",
      " [ 2.77   31.    ]\n",
      " [ 3.     32.    ]\n",
      " [ 3.     32.    ]\n",
      " [ 0.      0.    ]\n",
      " [ 0.      0.    ]\n",
      " [ 0.      0.    ]\n",
      " [ 0.      0.    ]\n",
      " [ 4.79   32.    ]\n",
      " [ 6.75   32.46  ]\n",
      " [ 6.88   32.75  ]\n",
      " [ 5.38   32.    ]\n",
      " [ 4.71   32.    ]\n",
      " [ 4.     32.    ]\n",
      " [ 4.     32.    ]\n",
      " [ 4.     32.    ]\n",
      " [ 5.04   32.    ]\n",
      " [ 3.63   32.    ]\n",
      " [ 4.29   32.17  ]\n",
      " [ 5.     32.25  ]\n",
      " [ 5.     32.38  ]\n",
      " [ 5.     32.67  ]\n",
      " [ 5.     33.    ]\n",
      " [ 5.25   33.    ]\n",
      " [ 6.     33.    ]\n",
      " [ 9.09   31.91  ]\n",
      " [27.8    20.1   ]\n",
      " [ 0.      0.    ]\n",
      " [ 0.      0.    ]\n",
      " [ 0.      0.    ]\n",
      " [29.18   17.    ]\n",
      " [28.83   16.    ]\n",
      " [32.08   16.63  ]\n",
      " [32.29   13.17  ]\n",
      " [24.71   12.    ]\n",
      " [31.     12.5   ]\n",
      " [37.54   14.42  ]\n",
      " [31.9    15.2   ]\n",
      " [ 0.      0.    ]\n",
      " [ 0.      0.    ]\n",
      " [ 0.      0.    ]\n",
      " [ 0.      0.    ]\n",
      " [ 0.      0.    ]\n",
      " [ 0.      0.    ]\n",
      " [33.14   20.41  ]\n",
      " [38.33   22.17  ]\n",
      " [37.08   24.58  ]\n",
      " [23.67   25.    ]\n",
      " [ 0.      0.    ]\n",
      " [ 0.      0.    ]\n",
      " [ 0.      0.    ]\n",
      " [ 0.      0.    ]\n",
      " [10.89   27.58  ]\n",
      " [11.42   27.42  ]\n",
      " [13.5    26.38  ]\n",
      " [14.54   24.38  ]\n",
      " [15.     25.    ]\n",
      " [15.88   25.25  ]\n",
      " [16.     26.58  ]\n",
      " [15.13   27.    ]\n",
      " [14.29   27.    ]\n",
      " [13.25   27.    ]\n",
      " [12.     26.38  ]\n",
      " [ 0.      0.    ]\n",
      " [ 8.06   26.44  ]\n",
      " [ 8.     26.25  ]\n",
      " [ 8.     27.    ]\n",
      " [ 8.     27.    ]\n",
      " [ 8.     27.    ]\n",
      " [ 8.     27.13  ]\n",
      " [ 8.     27.04  ]\n",
      " [ 8.     26.54  ]\n",
      " [ 8.     24.13  ]\n",
      " [ 7.2    24.    ]\n",
      " [ 0.      0.    ]\n",
      " [ 0.      0.    ]\n",
      " [ 0.      0.    ]\n",
      " [ 0.      0.    ]\n",
      " [ 0.      0.    ]\n",
      " [ 0.      0.    ]\n",
      " [ 0.      0.    ]\n",
      " [ 0.      0.    ]\n",
      " [ 0.      0.    ]\n",
      " [ 0.      0.    ]\n",
      " [ 0.      0.    ]\n",
      " [ 9.4    28.    ]\n",
      " [11.     28.    ]\n",
      " [11.92   28.    ]\n",
      " [11.54   28.    ]\n",
      " [ 6.33   27.42  ]\n",
      " [ 5.      2.27  ]\n",
      " [ 6.92   27.83  ]\n",
      " [ 7.     28.    ]\n",
      " [ 7.     28.    ]\n",
      " [ 6.96   28.    ]\n",
      " [ 6.33   28.    ]\n",
      " [ 0.      0.    ]\n",
      " [ 0.      0.    ]\n",
      " [ 0.      0.    ]\n",
      " [ 0.      0.    ]\n",
      " [13.     28.    ]\n",
      " [13.     28.    ]\n",
      " [12.79   28.    ]\n",
      " [12.25   28.    ]\n",
      " [14.54   28.    ]\n",
      " [15.75   28.    ]\n",
      " [16.96   28.    ]\n",
      " [17.79   28.    ]\n",
      " [18.58   28.    ]\n",
      " [17.54   28.    ]\n",
      " [18.13   28.    ]\n",
      " [19.     26.75  ]\n",
      " [19.92   25.96  ]\n",
      " [20.     27.88  ]\n",
      " [20.     27.96  ]\n",
      " [20.     28.54  ]\n",
      " [20.     28.    ]\n",
      " [19.42   28.    ]\n",
      " [19.04   28.    ]\n",
      " [19.     28.    ]\n",
      " [ 0.      0.    ]\n",
      " [ 0.      0.    ]\n",
      " [19.22   29.87  ]\n",
      " [18.83   30.    ]\n",
      " [18.     30.    ]\n",
      " [17.5    30.    ]\n",
      " [17.     30.    ]\n",
      " [16.83   30.    ]\n",
      " [16.     30.    ]\n",
      " [16.     30.    ]\n",
      " [15.33   30.    ]\n",
      " [15.     30.    ]\n",
      " [14.75   29.71  ]\n",
      " [14.17   29.    ]\n",
      " [14.     28.96  ]\n",
      " [13.88   28.    ]\n",
      " [13.     28.33  ]\n",
      " [12.92   29.38  ]\n",
      " [12.     29.    ]\n",
      " [12.     29.96  ]\n",
      " [12.     30.    ]\n",
      " [12.     30.    ]\n",
      " [12.     29.63  ]\n",
      " [11.88   30.    ]\n",
      " [ 8.67   30.    ]\n",
      " [ 6.21   29.42  ]\n",
      " [ 6.42   29.    ]\n",
      " [ 7.75   29.    ]\n",
      " [ 9.88   29.17  ]\n",
      " [12.92   29.08  ]\n",
      " [15.96   29.    ]\n",
      " [ 0.7521 29.    ]\n",
      " [18.08   29.    ]\n",
      " [19.     29.    ]\n",
      " [18.71   29.    ]\n",
      " [19.     29.    ]\n",
      " [19.     29.    ]\n",
      " [19.     29.    ]\n",
      " [19.     29.    ]\n",
      " [18.71   29.    ]\n",
      " [18.     29.    ]\n",
      " [27.41   29.    ]\n",
      " [28.04   29.    ]\n",
      " [25.83   29.    ]\n",
      " [23.08   29.    ]\n",
      " [20.46   29.    ]\n",
      " [19.92   29.    ]\n",
      " [20.     29.    ]\n",
      " [19.     29.    ]\n",
      " [17.79   29.    ]\n",
      " [16.75   29.    ]\n",
      " [16.     29.    ]\n",
      " [15.17   29.    ]\n",
      " [16.5    29.    ]\n",
      " [16.79   29.    ]\n",
      " [16.25   29.    ]\n",
      " [16.83   29.33  ]\n",
      " [16.     29.    ]\n",
      " [15.08   28.71  ]\n",
      " [15.29   28.5   ]\n",
      " [16.     29.    ]\n",
      " [16.     29.    ]\n",
      " [16.     29.    ]\n",
      " [16.54   29.96  ]\n",
      " [16.     30.    ]\n",
      " [16.     29.63  ]\n",
      " [16.     29.    ]\n",
      " [16.     29.    ]\n",
      " [16.08   29.    ]\n",
      " [16.     29.    ]\n",
      " [16.     29.    ]\n",
      " [15.54   29.    ]\n",
      " [10.08   29.    ]\n",
      " [15.04   29.    ]\n",
      " [19.42   29.    ]\n",
      " [20.79   29.83  ]\n",
      " [20.     29.    ]\n",
      " [18.96   29.    ]\n",
      " [16.17   27.13  ]\n",
      " [13.08   25.33  ]\n",
      " [15.67   30.    ]\n",
      " [18.04   29.58  ]\n",
      " [19.88   29.    ]\n",
      " [22.     29.    ]\n",
      " [24.75   29.71  ]\n",
      " [26.79   29.21  ]\n",
      " [28.63   30.    ]\n",
      " [30.33   30.    ]\n",
      " [32.72   28.94  ]\n",
      " [ 0.      0.    ]\n",
      " [ 0.      0.    ]\n",
      " [ 4.92   36.92  ]\n",
      " [ 5.04   22.04  ]\n",
      " [ 7.63   23.92  ]\n",
      " [22.33   42.96  ]\n",
      " [31.08   25.17  ]\n",
      " [19.25   21.83  ]\n",
      " [18.5    17.    ]\n",
      " [ 5.29   21.83  ]\n",
      " [ 6.58   25.46  ]\n",
      " [ 5.     22.46  ]\n",
      " [ 5.     26.    ]\n",
      " [ 5.65   56.    ]\n",
      " [10.29   31.54  ]\n",
      " [12.54   17.    ]\n",
      " [ 0.      0.    ]\n",
      " [ 0.      0.    ]\n",
      " [16.78   34.    ]\n",
      " [ 8.13   33.08  ]\n",
      " [ 5.67    6.54  ]\n",
      " [ 5.08    4.13  ]\n",
      " [ 5.67    2.88  ]\n",
      " [ 9.33    0.46  ]\n",
      " [ 7.08    3.17  ]\n",
      " [ 9.29   12.08  ]\n",
      " [10.83    8.63  ]\n",
      " [ 7.38    8.21  ]\n",
      " [ 8.46   10.17  ]\n",
      " [ 5.29    8.75  ]\n",
      " [10.92    7.04  ]\n",
      " [16.72    2.67  ]\n",
      " [ 0.      0.    ]\n",
      " [11.28    4.17  ]\n",
      " [ 8.54    6.13  ]\n",
      " [ 8.08    7.33  ]\n",
      " [11.5     7.04  ]\n",
      " [11.96    4.54  ]\n",
      " [ 9.75    2.88  ]\n",
      " [11.67    3.67  ]\n",
      " [10.58    4.29  ]\n",
      " [ 7.21    4.38  ]\n",
      " [ 8.17    6.79  ]\n",
      " [ 6.96    7.92  ]\n",
      " [ 8.21    4.08  ]\n",
      " [ 8.58    2.54  ]\n",
      " [ 7.21    2.54  ]\n",
      " [12.04    0.92  ]\n",
      " [10.38    2.54  ]\n",
      " [11.71    4.13  ]\n",
      " [ 9.46    3.    ]\n",
      " [ 6.63    1.46  ]\n",
      " [ 6.      2.    ]\n",
      " [ 7.08    3.    ]\n",
      " [ 7.54    4.25  ]\n",
      " [ 6.      5.42  ]\n",
      " [ 6.25    8.33  ]\n",
      " [ 6.21    8.96  ]\n",
      " [ 7.46    7.63  ]\n",
      " [ 9.71    6.96  ]\n",
      " [ 9.21    8.42  ]\n",
      " [ 6.46    6.96  ]\n",
      " [ 6.42    5.46  ]\n",
      " [ 6.38    7.88  ]\n",
      " [ 7.      7.75  ]\n",
      " [ 7.46    5.92  ]\n",
      " [ 9.96    4.88  ]\n",
      " [10.21    5.17  ]\n",
      " [ 6.75    4.42  ]\n",
      " [ 6.      6.    ]\n",
      " [ 6.      9.58  ]\n",
      " [ 6.88   10.08  ]\n",
      " [14.      7.7   ]\n",
      " [24.83    6.42  ]\n",
      " [12.      7.    ]\n",
      " [ 0.      0.    ]\n",
      " [ 0.      0.    ]\n",
      " [ 0.      0.    ]\n",
      " [ 0.      0.    ]\n",
      " [25.23    4.73  ]\n",
      " [ 5.      5.58  ]\n",
      " [ 5.      3.88  ]\n",
      " [ 5.08    4.92  ]\n",
      " [ 5.29    8.13  ]\n",
      " [ 5.      8.88  ]\n",
      " [ 5.      6.38  ]\n",
      " [ 5.      5.04  ]\n",
      " [ 5.      5.33  ]\n",
      " [ 5.      5.96  ]\n",
      " [17.55    5.77  ]\n",
      " [21.92    5.42  ]\n",
      " [ 9.21    6.    ]\n",
      " [12.79    5.13  ]\n",
      " [11.5     7.33  ]\n",
      " [ 7.33    7.63  ]\n",
      " [ 7.      6.38  ]\n",
      " [ 7.      6.71  ]\n",
      " [ 7.58    6.    ]\n",
      " [ 8.      6.83  ]\n",
      " [ 7.71    5.75  ]\n",
      " [ 7.5     6.83  ]\n",
      " [ 7.63    7.    ]\n",
      " [ 9.46    6.46  ]\n",
      " [ 9.54    4.92  ]\n",
      " [ 9.58    1.88  ]\n",
      " [ 8.38    8.63  ]\n",
      " [ 8.96    7.54  ]\n",
      " [ 8.54    3.04  ]\n",
      " [ 9.04    4.58  ]\n",
      " [10.33    5.08  ]\n",
      " [ 9.25    6.04  ]\n",
      " [ 9.04    5.67  ]]\n"
     ]
    }
   ],
   "source": [
    "data = df[[\"O3\", \"CO\"]]\n",
    "data = data.values\n",
    "print(data)"
   ]
  },
  {
   "cell_type": "markdown",
   "metadata": {},
   "source": [
    "<h2>Percobaan langsung menggunakan K-Means</h2>"
   ]
  },
  {
   "cell_type": "markdown",
   "metadata": {},
   "source": [
    "Disini parameter pada K-means ditentukan secara random oleh penulis"
   ]
  },
  {
   "cell_type": "code",
   "execution_count": 6,
   "metadata": {},
   "outputs": [
    {
     "data": {
      "text/html": [
       "<style>#sk-container-id-1 {color: black;background-color: white;}#sk-container-id-1 pre{padding: 0;}#sk-container-id-1 div.sk-toggleable {background-color: white;}#sk-container-id-1 label.sk-toggleable__label {cursor: pointer;display: block;width: 100%;margin-bottom: 0;padding: 0.3em;box-sizing: border-box;text-align: center;}#sk-container-id-1 label.sk-toggleable__label-arrow:before {content: \"▸\";float: left;margin-right: 0.25em;color: #696969;}#sk-container-id-1 label.sk-toggleable__label-arrow:hover:before {color: black;}#sk-container-id-1 div.sk-estimator:hover label.sk-toggleable__label-arrow:before {color: black;}#sk-container-id-1 div.sk-toggleable__content {max-height: 0;max-width: 0;overflow: hidden;text-align: left;background-color: #f0f8ff;}#sk-container-id-1 div.sk-toggleable__content pre {margin: 0.2em;color: black;border-radius: 0.25em;background-color: #f0f8ff;}#sk-container-id-1 input.sk-toggleable__control:checked~div.sk-toggleable__content {max-height: 200px;max-width: 100%;overflow: auto;}#sk-container-id-1 input.sk-toggleable__control:checked~label.sk-toggleable__label-arrow:before {content: \"▾\";}#sk-container-id-1 div.sk-estimator input.sk-toggleable__control:checked~label.sk-toggleable__label {background-color: #d4ebff;}#sk-container-id-1 div.sk-label input.sk-toggleable__control:checked~label.sk-toggleable__label {background-color: #d4ebff;}#sk-container-id-1 input.sk-hidden--visually {border: 0;clip: rect(1px 1px 1px 1px);clip: rect(1px, 1px, 1px, 1px);height: 1px;margin: -1px;overflow: hidden;padding: 0;position: absolute;width: 1px;}#sk-container-id-1 div.sk-estimator {font-family: monospace;background-color: #f0f8ff;border: 1px dotted black;border-radius: 0.25em;box-sizing: border-box;margin-bottom: 0.5em;}#sk-container-id-1 div.sk-estimator:hover {background-color: #d4ebff;}#sk-container-id-1 div.sk-parallel-item::after {content: \"\";width: 100%;border-bottom: 1px solid gray;flex-grow: 1;}#sk-container-id-1 div.sk-label:hover label.sk-toggleable__label {background-color: #d4ebff;}#sk-container-id-1 div.sk-serial::before {content: \"\";position: absolute;border-left: 1px solid gray;box-sizing: border-box;top: 0;bottom: 0;left: 50%;z-index: 0;}#sk-container-id-1 div.sk-serial {display: flex;flex-direction: column;align-items: center;background-color: white;padding-right: 0.2em;padding-left: 0.2em;position: relative;}#sk-container-id-1 div.sk-item {position: relative;z-index: 1;}#sk-container-id-1 div.sk-parallel {display: flex;align-items: stretch;justify-content: center;background-color: white;position: relative;}#sk-container-id-1 div.sk-item::before, #sk-container-id-1 div.sk-parallel-item::before {content: \"\";position: absolute;border-left: 1px solid gray;box-sizing: border-box;top: 0;bottom: 0;left: 50%;z-index: -1;}#sk-container-id-1 div.sk-parallel-item {display: flex;flex-direction: column;z-index: 1;position: relative;background-color: white;}#sk-container-id-1 div.sk-parallel-item:first-child::after {align-self: flex-end;width: 50%;}#sk-container-id-1 div.sk-parallel-item:last-child::after {align-self: flex-start;width: 50%;}#sk-container-id-1 div.sk-parallel-item:only-child::after {width: 0;}#sk-container-id-1 div.sk-dashed-wrapped {border: 1px dashed gray;margin: 0 0.4em 0.5em 0.4em;box-sizing: border-box;padding-bottom: 0.4em;background-color: white;}#sk-container-id-1 div.sk-label label {font-family: monospace;font-weight: bold;display: inline-block;line-height: 1.2em;}#sk-container-id-1 div.sk-label-container {text-align: center;}#sk-container-id-1 div.sk-container {/* jupyter's `normalize.less` sets `[hidden] { display: none; }` but bootstrap.min.css set `[hidden] { display: none !important; }` so we also need the `!important` here to be able to override the default hidden behavior on the sphinx rendered scikit-learn.org. See: https://github.com/scikit-learn/scikit-learn/issues/21755 */display: inline-block !important;position: relative;}#sk-container-id-1 div.sk-text-repr-fallback {display: none;}</style><div id=\"sk-container-id-1\" class=\"sk-top-container\"><div class=\"sk-text-repr-fallback\"><pre>KMeans(init=&#x27;random&#x27;, max_iter=10, n_clusters=5)</pre><b>In a Jupyter environment, please rerun this cell to show the HTML representation or trust the notebook. <br />On GitHub, the HTML representation is unable to render, please try loading this page with nbviewer.org.</b></div><div class=\"sk-container\" hidden><div class=\"sk-item\"><div class=\"sk-estimator sk-toggleable\"><input class=\"sk-toggleable__control sk-hidden--visually\" id=\"sk-estimator-id-1\" type=\"checkbox\" checked><label for=\"sk-estimator-id-1\" class=\"sk-toggleable__label sk-toggleable__label-arrow\">KMeans</label><div class=\"sk-toggleable__content\"><pre>KMeans(init=&#x27;random&#x27;, max_iter=10, n_clusters=5)</pre></div></div></div></div></div>"
      ],
      "text/plain": [
       "KMeans(init='random', max_iter=10, n_clusters=5)"
      ]
     },
     "execution_count": 6,
     "metadata": {},
     "output_type": "execute_result"
    }
   ],
   "source": [
    "kmeans = KMeans(n_clusters=5, init='random', max_iter=10)\n",
    "kmeans.fit(data)"
   ]
  },
  {
   "cell_type": "code",
   "execution_count": 7,
   "metadata": {},
   "outputs": [
    {
     "data": {
      "image/png": "[encoded data removed]",
      "text/plain": [
       "<Figure size 640x480 with 1 Axes>"
      ]
     },
     "metadata": {},
     "output_type": "display_data"
    }
   ],
   "source": [
    "cluster_assignments = kmeans.labels_\n",
    "plt.scatter(data[:, 0], data[:, 1], c=cluster_assignments, cmap='viridis')\n",
    "plt.scatter(kmeans.cluster_centers_[:, 0], kmeans.cluster_centers_[:, 1], s=300, c='red', marker='x')\n",
    "plt.xlabel('Income')\n",
    "plt.ylabel('Total shop')\n",
    "plt.title(f'K-Means Clustering dengan silhouette score {silhouette_score(data, cluster_assignments):.2f}')\n",
    "plt.show()"
   ]
  },
  {
   "cell_type": "markdown",
   "metadata": {},
   "source": [
    "<h2>Percobaan dengan ABC Algorithm dengan objective function menggunakan nilai Silhoutte score</h2>"
   ]
  },
  {
   "cell_type": "markdown",
   "metadata": {},
   "source": [
    "buat objective function"
   ]
  },
  {
   "cell_type": "markdown",
   "metadata": {},
   "source": [
    "disini variabel yang akan diuji adalah nilai silhouette yang nanti akan dimaksimumkan, dimana makin tinggi nilai silhouette maka kesesuaian data pada sebuah klaster semakin baik"
   ]
  },
  {
   "cell_type": "code",
   "execution_count": 8,
   "metadata": {},
   "outputs": [],
   "source": [
    "def objective_function_silhoutte(params, data):\n",
    "    n_clusters, init, max_iter = params\n",
    "    kmeans = KMeans(n_clusters=n_clusters, init=init, max_iter=max_iter)\n",
    "    kmeans.fit(data)\n",
    "    labels = kmeans.labels_ #hasil klaster\n",
    "    return silhouette_score(data, labels)"
   ]
  },
  {
   "cell_type": "markdown",
   "metadata": {},
   "source": [
    "tentukan parameter untuk menjalankan ABC algorithm"
   ]
  },
  {
   "cell_type": "code",
   "execution_count": 9,
   "metadata": {},
   "outputs": [],
   "source": [
    "# Parameter ABC\n",
    "n_employed_bees = 50\n",
    "n_onlooker_bees = 50\n",
    "n_scout_bees = 50\n",
    "max_iterations = 100"
   ]
  },
  {
   "cell_type": "markdown",
   "metadata": {},
   "source": [
    "import data dan jadikan sebagai Array"
   ]
  },
  {
   "cell_type": "code",
   "execution_count": 10,
   "metadata": {},
   "outputs": [],
   "source": [
    "#df = pd.read_csv(\"datasets/customer/marketing_campaign.csv\", sep='\\t')\n",
    "#df.head()\n",
    "#df = df.dropna()"
   ]
  },
  {
   "cell_type": "code",
   "execution_count": 11,
   "metadata": {},
   "outputs": [
    {
     "data": {
      "text/html": [
       "<div>\n",
       "<style scoped>\n",
       "    .dataframe tbody tr th:only-of-type {\n",
       "        vertical-align: middle;\n",
       "    }\n",
       "\n",
       "    .dataframe tbody tr th {\n",
       "        vertical-align: top;\n",
       "    }\n",
       "\n",
       "    .dataframe thead th {\n",
       "        text-align: right;\n",
       "    }\n",
       "</style>\n",
       "<table border=\"1\" class=\"dataframe\">\n",
       "  <thead>\n",
       "    <tr style=\"text-align: right;\">\n",
       "      <th></th>\n",
       "      <th>PM10</th>\n",
       "      <th>SO2</th>\n",
       "      <th>O3</th>\n",
       "      <th>NO2</th>\n",
       "      <th>CO</th>\n",
       "    </tr>\n",
       "  </thead>\n",
       "  <tbody>\n",
       "    <tr>\n",
       "      <th>0</th>\n",
       "      <td>13.83</td>\n",
       "      <td>4.54</td>\n",
       "      <td>5.46</td>\n",
       "      <td>0.54</td>\n",
       "      <td>0.33</td>\n",
       "    </tr>\n",
       "    <tr>\n",
       "      <th>1</th>\n",
       "      <td>6.44</td>\n",
       "      <td>0.00</td>\n",
       "      <td>3.11</td>\n",
       "      <td>0.00</td>\n",
       "      <td>0.00</td>\n",
       "    </tr>\n",
       "    <tr>\n",
       "      <th>2</th>\n",
       "      <td>0.00</td>\n",
       "      <td>0.00</td>\n",
       "      <td>0.00</td>\n",
       "      <td>0.00</td>\n",
       "      <td>0.00</td>\n",
       "    </tr>\n",
       "    <tr>\n",
       "      <th>3</th>\n",
       "      <td>0.00</td>\n",
       "      <td>0.00</td>\n",
       "      <td>0.00</td>\n",
       "      <td>0.00</td>\n",
       "      <td>0.00</td>\n",
       "    </tr>\n",
       "    <tr>\n",
       "      <th>4</th>\n",
       "      <td>0.00</td>\n",
       "      <td>0.00</td>\n",
       "      <td>0.00</td>\n",
       "      <td>0.00</td>\n",
       "      <td>0.00</td>\n",
       "    </tr>\n",
       "  </tbody>\n",
       "</table>\n",
       "</div>"
      ],
      "text/plain": [
       "    PM10   SO2    O3   NO2    CO\n",
       "0  13.83  4.54  5.46  0.54  0.33\n",
       "1   6.44  0.00  3.11  0.00  0.00\n",
       "2   0.00  0.00  0.00  0.00  0.00\n",
       "3   0.00  0.00  0.00  0.00  0.00\n",
       "4   0.00  0.00  0.00  0.00  0.00"
      ]
     },
     "execution_count": 11,
     "metadata": {},
     "output_type": "execute_result"
    }
   ],
   "source": [
    "df.head()"
   ]
  },
  {
   "cell_type": "markdown",
   "metadata": {},
   "source": [
    "buat batasan parameter yang akan diuji, karena input parameter yang bsia diubah adalah jumlah klaster, mode inisialisasi dan total iterasi, maka ketiga variabel tadi yang akan diuji"
   ]
  },
  {
   "cell_type": "code",
   "execution_count": 12,
   "metadata": {},
   "outputs": [],
   "source": [
    "param_range = {\n",
    "    'n_clusters': list(range(2, 11)),  # buat nyoba jumlah cluster yang terbaik ada berapa\n",
    "    'init': ['k-means++', 'random'],   # buat nyoba metode inisialisasi K-means yang terbaik gimana\n",
    "    'max_iter': list(range(100, 501, 100))  # maximum iterasi K-means\n",
    "}"
   ]
  },
  {
   "cell_type": "markdown",
   "metadata": {},
   "source": [
    "ABC = searching algorithm yang make konsep seperti lebah, jadi nanti dia akan ngekeep parameter terbaik sampai parameter yang lebih baik ditemukan"
   ]
  },
  {
   "cell_type": "code",
   "execution_count": 13,
   "metadata": {},
   "outputs": [],
   "source": [
    "#employed bee == yang nyari\n",
    "employed_bees = []\n",
    "for _ in range(n_employed_bees):\n",
    "    params = [np.random.choice(param_range['n_clusters']),\n",
    "              np.random.choice(param_range['init']),\n",
    "              np.random.choice(param_range['max_iter'])]\n",
    "    employed_bees.append((params, objective_function_silhoutte(params, data)))"
   ]
  },
  {
   "cell_type": "markdown",
   "metadata": {},
   "source": [
    "employed bee akan nyari parameter secara acak dari list parameter yang ada, 20 titik ini akan jadi titik inisialisasi untuk melihat titik terbaik"
   ]
  },
  {
   "cell_type": "code",
   "execution_count": 14,
   "metadata": {},
   "outputs": [
    {
     "data": {
      "text/plain": [
       "[([2, 'k-means++', 100], 0.6639153184611662),\n",
       " ([10, 'k-means++', 400], 0.49364113748400085),\n",
       " ([10, 'random', 500], 0.4939916464981199),\n",
       " ([7, 'random', 500], 0.5340821327911048),\n",
       " ([3, 'random', 200], 0.5819768136034068),\n",
       " ([8, 'random', 100], 0.5235201693461695),\n",
       " ([7, 'k-means++', 200], 0.5678393017188994),\n",
       " ([5, 'random', 300], 0.5970930726055329),\n",
       " ([6, 'random', 200], 0.5356259066594247),\n",
       " ([5, 'k-means++', 400], 0.5973525111347628),\n",
       " ([7, 'k-means++', 400], 0.5573789056068785),\n",
       " ([4, 'k-means++', 400], 0.6205101491124468),\n",
       " ([2, 'random', 500], 0.6639153184611662),\n",
       " ([10, 'random', 300], 0.49853263350372035),\n",
       " ([7, 'random', 200], 0.5673886762211328),\n",
       " ([9, 'k-means++', 300], 0.518389348986611),\n",
       " ([9, 'k-means++', 100], 0.5372290671253696),\n",
       " ([4, 'random', 100], 0.6213379058914843),\n",
       " ([8, 'random', 500], 0.5591195978674829),\n",
       " ([3, 'k-means++', 300], 0.5819768136034068),\n",
       " ([4, 'k-means++', 100], 0.6209305825786275),\n",
       " ([5, 'k-means++', 100], 0.5973525111347628),\n",
       " ([4, 'random', 500], 0.6205101491124468),\n",
       " ([10, 'random', 200], 0.47975928691473624),\n",
       " ([7, 'k-means++', 200], 0.5685193175310966),\n",
       " ([2, 'random', 500], 0.6639153184611662),\n",
       " ([5, 'random', 300], 0.5971330157055682),\n",
       " ([5, 'random', 100], 0.5973525111347628),\n",
       " ([9, 'random', 200], 0.5403999561865598),\n",
       " ([2, 'random', 100], 0.6639153184611662),\n",
       " ([10, 'k-means++', 100], 0.5189672990443126),\n",
       " ([4, 'k-means++', 400], 0.6213379058914843),\n",
       " ([2, 'k-means++', 300], 0.6639153184611662),\n",
       " ([5, 'random', 500], 0.5971330157055682),\n",
       " ([5, 'k-means++', 200], 0.5973525111347628),\n",
       " ([8, 'k-means++', 400], 0.5156404214022878),\n",
       " ([6, 'k-means++', 300], 0.5974489918905899),\n",
       " ([4, 'random', 300], 0.6213379058914843),\n",
       " ([5, 'k-means++', 100], 0.5973525111347628),\n",
       " ([9, 'k-means++', 400], 0.5196999832245356),\n",
       " ([3, 'random', 500], 0.5819768136034068),\n",
       " ([5, 'random', 300], 0.5971330157055682),\n",
       " ([4, 'k-means++', 100], 0.6209305825786275),\n",
       " ([2, 'random', 100], 0.6639153184611662),\n",
       " ([2, 'k-means++', 100], 0.6639153184611662),\n",
       " ([5, 'k-means++', 100], 0.5973525111347628),\n",
       " ([6, 'random', 500], 0.5366884342389732),\n",
       " ([8, 'random', 200], 0.5123056646531944),\n",
       " ([5, 'random', 400], 0.5971330157055682),\n",
       " ([3, 'k-means++', 500], 0.5819768136034068)]"
      ]
     },
     "execution_count": 14,
     "metadata": {},
     "output_type": "execute_result"
    }
   ],
   "source": [
    "#dibawah ini contoh hasil yagn didapat, ini digunakan sebagai inisialisasi kemudian nantinya akan dicompare dengan hasil algoritma ABC\n",
    "employed_bees"
   ]
  },
  {
   "cell_type": "markdown",
   "metadata": {},
   "source": [
    "dicari titik terbaik dari list titik-titik tadi"
   ]
  },
  {
   "cell_type": "code",
   "execution_count": 15,
   "metadata": {},
   "outputs": [
    {
     "data": {
      "text/plain": [
       "([2, 'k-means++', 100], 0.6639153184611662)"
      ]
     },
     "execution_count": 15,
     "metadata": {},
     "output_type": "execute_result"
    }
   ],
   "source": [
    "best_solution = max(employed_bees, key=lambda x: x[1]) #disini bisa dilihat bahwa yang dilihat adalah silhouette scorenya\n",
    "best_solution_params, best_solution_value = best_solution\n",
    "best_solution"
   ]
  },
  {
   "cell_type": "markdown",
   "metadata": {},
   "source": [
    "konsep dari ABC ini adalah\n",
    "\n",
    "pertama pada phase employed bees, \n",
    "akan dicek semua hasil dari si employed bees, dan parameter yang udah didapetin sebelumnya, akan diubah-ubah lagi dan akan dibandingkan dengan hasil terbaik yang udah didapetin sebelumnya. apabila lebih baik, maka titik dari si employed bee tadi akan diganti dengan yang baru, dan ini akan diulan-ulang\n",
    "\n",
    "pada phase onlooker bees,\n",
    "pertama akan ditotal dulu silhouette scorenya dan akan dicari yang scorenya kecil, score kecil ini akan ditinjau ulang dengan mencari ulang parameter sampai nilai yang didapatin bisa lebih baik\n",
    "\n",
    "Pada phase scout bees,\n",
    "akan dicari mana parameter yang silhouette scorenya terbaik.\n",
    "\n",
    "semua ini akan diulangi hingga max_iteration\n"
   ]
  },
  {
   "cell_type": "code",
   "execution_count": 16,
   "metadata": {},
   "outputs": [],
   "source": [
    "for iteration in range(max_iterations):\n",
    "    # Employed Bee Phase\n",
    "    for i in range(n_employed_bees):\n",
    "        params, _ = employed_bees[i]\n",
    "        neighbor_params = copy.deepcopy(params)\n",
    "        param_to_change = np.random.choice(3)  \n",
    "        neighbor_params[param_to_change] = np.random.choice(param_range[list(param_range.keys())[param_to_change]])\n",
    "        neighbor_value = objective_function_silhoutte(neighbor_params, data)\n",
    "        if neighbor_value > employed_bees[i][1]:\n",
    "            employed_bees[i] = (neighbor_params, neighbor_value)\n",
    "\n",
    "    # Onlooker Bee Phase\n",
    "    onlooker_bees = []\n",
    "    total_value = sum(bee[1] for bee in employed_bees)\n",
    "\n",
    "    for i in range(n_onlooker_bees):\n",
    "        random_index = np.random.choice(len(employed_bees))\n",
    "        selected_bee = employed_bees[random_index]\n",
    "        onlooker_bees.append(selected_bee)\n",
    "        total_value += selected_bee[1]\n",
    "\n",
    "    for i in range(n_onlooker_bees):\n",
    "        if np.random.rand() < (onlooker_bees[i][1] / total_value):\n",
    "            params, _ = onlooker_bees[i]\n",
    "            neighbor_params = copy.deepcopy(params)\n",
    "            param_to_change = np.random.choice(3)\n",
    "            neighbor_params[param_to_change] = np.random.choice(param_range[list(param_range.keys())[param_to_change]])\n",
    "            neighbor_value = objective_function_silhoutte(neighbor_params, data)\n",
    "            if neighbor_value > onlooker_bees[i][1]:\n",
    "                onlooker_bees[i] = (neighbor_params, neighbor_value)\n",
    "\n",
    "    # Scout Bee Phase\n",
    "    for i in range(n_employed_bees):\n",
    "        if employed_bees[i][1] == best_solution_value:\n",
    "            params = [np.random.choice(param_range['n_clusters']),\n",
    "                      np.random.choice(param_range['init']),\n",
    "                      np.random.choice(param_range['max_iter'])]\n",
    "            employed_bees[i] = (params, objective_function_silhoutte(params, data))\n",
    "\n",
    "    # Update best solution\n",
    "    best_solution = max(employed_bees, key=lambda x: x[1])\n",
    "    best_solution_params, best_solution_value = best_solution"
   ]
  },
  {
   "cell_type": "code",
   "execution_count": 17,
   "metadata": {},
   "outputs": [
    {
     "name": "stdout",
     "output_type": "stream",
     "text": [
      "Best Parameters: [2, 'k-means++', 200]\n",
      "Best Silhouette Score: 0.6639153184611662\n"
     ]
    }
   ],
   "source": [
    "print(\"Best Parameters:\", best_solution_params)\n",
    "print(\"Best Silhouette Score:\", best_solution_value)"
   ]
  },
  {
   "cell_type": "code",
   "execution_count": 18,
   "metadata": {},
   "outputs": [
    {
     "data": {
      "text/html": [
       "<style>#sk-container-id-2 {color: black;background-color: white;}#sk-container-id-2 pre{padding: 0;}#sk-container-id-2 div.sk-toggleable {background-color: white;}#sk-container-id-2 label.sk-toggleable__label {cursor: pointer;display: block;width: 100%;margin-bottom: 0;padding: 0.3em;box-sizing: border-box;text-align: center;}#sk-container-id-2 label.sk-toggleable__label-arrow:before {content: \"▸\";float: left;margin-right: 0.25em;color: #696969;}#sk-container-id-2 label.sk-toggleable__label-arrow:hover:before {color: black;}#sk-container-id-2 div.sk-estimator:hover label.sk-toggleable__label-arrow:before {color: black;}#sk-container-id-2 div.sk-toggleable__content {max-height: 0;max-width: 0;overflow: hidden;text-align: left;background-color: #f0f8ff;}#sk-container-id-2 div.sk-toggleable__content pre {margin: 0.2em;color: black;border-radius: 0.25em;background-color: #f0f8ff;}#sk-container-id-2 input.sk-toggleable__control:checked~div.sk-toggleable__content {max-height: 200px;max-width: 100%;overflow: auto;}#sk-container-id-2 input.sk-toggleable__control:checked~label.sk-toggleable__label-arrow:before {content: \"▾\";}#sk-container-id-2 div.sk-estimator input.sk-toggleable__control:checked~label.sk-toggleable__label {background-color: #d4ebff;}#sk-container-id-2 div.sk-label input.sk-toggleable__control:checked~label.sk-toggleable__label {background-color: #d4ebff;}#sk-container-id-2 input.sk-hidden--visually {border: 0;clip: rect(1px 1px 1px 1px);clip: rect(1px, 1px, 1px, 1px);height: 1px;margin: -1px;overflow: hidden;padding: 0;position: absolute;width: 1px;}#sk-container-id-2 div.sk-estimator {font-family: monospace;background-color: #f0f8ff;border: 1px dotted black;border-radius: 0.25em;box-sizing: border-box;margin-bottom: 0.5em;}#sk-container-id-2 div.sk-estimator:hover {background-color: #d4ebff;}#sk-container-id-2 div.sk-parallel-item::after {content: \"\";width: 100%;border-bottom: 1px solid gray;flex-grow: 1;}#sk-container-id-2 div.sk-label:hover label.sk-toggleable__label {background-color: #d4ebff;}#sk-container-id-2 div.sk-serial::before {content: \"\";position: absolute;border-left: 1px solid gray;box-sizing: border-box;top: 0;bottom: 0;left: 50%;z-index: 0;}#sk-container-id-2 div.sk-serial {display: flex;flex-direction: column;align-items: center;background-color: white;padding-right: 0.2em;padding-left: 0.2em;position: relative;}#sk-container-id-2 div.sk-item {position: relative;z-index: 1;}#sk-container-id-2 div.sk-parallel {display: flex;align-items: stretch;justify-content: center;background-color: white;position: relative;}#sk-container-id-2 div.sk-item::before, #sk-container-id-2 div.sk-parallel-item::before {content: \"\";position: absolute;border-left: 1px solid gray;box-sizing: border-box;top: 0;bottom: 0;left: 50%;z-index: -1;}#sk-container-id-2 div.sk-parallel-item {display: flex;flex-direction: column;z-index: 1;position: relative;background-color: white;}#sk-container-id-2 div.sk-parallel-item:first-child::after {align-self: flex-end;width: 50%;}#sk-container-id-2 div.sk-parallel-item:last-child::after {align-self: flex-start;width: 50%;}#sk-container-id-2 div.sk-parallel-item:only-child::after {width: 0;}#sk-container-id-2 div.sk-dashed-wrapped {border: 1px dashed gray;margin: 0 0.4em 0.5em 0.4em;box-sizing: border-box;padding-bottom: 0.4em;background-color: white;}#sk-container-id-2 div.sk-label label {font-family: monospace;font-weight: bold;display: inline-block;line-height: 1.2em;}#sk-container-id-2 div.sk-label-container {text-align: center;}#sk-container-id-2 div.sk-container {/* jupyter's `normalize.less` sets `[hidden] { display: none; }` but bootstrap.min.css set `[hidden] { display: none !important; }` so we also need the `!important` here to be able to override the default hidden behavior on the sphinx rendered scikit-learn.org. See: https://github.com/scikit-learn/scikit-learn/issues/21755 */display: inline-block !important;position: relative;}#sk-container-id-2 div.sk-text-repr-fallback {display: none;}</style><div id=\"sk-container-id-2\" class=\"sk-top-container\"><div class=\"sk-text-repr-fallback\"><pre>KMeans(max_iter=200, n_clusters=2)</pre><b>In a Jupyter environment, please rerun this cell to show the HTML representation or trust the notebook. <br />On GitHub, the HTML representation is unable to render, please try loading this page with nbviewer.org.</b></div><div class=\"sk-container\" hidden><div class=\"sk-item\"><div class=\"sk-estimator sk-toggleable\"><input class=\"sk-toggleable__control sk-hidden--visually\" id=\"sk-estimator-id-2\" type=\"checkbox\" checked><label for=\"sk-estimator-id-2\" class=\"sk-toggleable__label sk-toggleable__label-arrow\">KMeans</label><div class=\"sk-toggleable__content\"><pre>KMeans(max_iter=200, n_clusters=2)</pre></div></div></div></div></div>"
      ],
      "text/plain": [
       "KMeans(max_iter=200, n_clusters=2)"
      ]
     },
     "execution_count": 18,
     "metadata": {},
     "output_type": "execute_result"
    }
   ],
   "source": [
    "kmeans = KMeans(n_clusters=best_solution_params[0], init=best_solution_params[1], max_iter=best_solution_params[2])\n",
    "kmeans.fit(data)"
   ]
  },
  {
   "cell_type": "code",
   "execution_count": 19,
   "metadata": {},
   "outputs": [
    {
     "data": {
      "image/png": "[encoded data removed]",
      "text/plain": [
       "<Figure size 640x480 with 1 Axes>"
      ]
     },
     "metadata": {},
     "output_type": "display_data"
    }
   ],
   "source": [
    "cluster_assignments = kmeans.labels_\n",
    "plt.scatter(data[:, 0], data[:, 1], c=cluster_assignments, cmap='viridis')\n",
    "plt.scatter(kmeans.cluster_centers_[:, 0], kmeans.cluster_centers_[:, 1], s=300, c='red', marker='x')\n",
    "plt.xlabel('Income')\n",
    "plt.ylabel('Total shop')\n",
    "plt.title(f'K-Means Clustering dengan silhouette score {silhouette_score(data, cluster_assignments):.2f}')\n",
    "plt.show()"
   ]
  },
  {
   "cell_type": "markdown",
   "metadata": {},
   "source": [
    "<h2>Percobaan Menggunakan ABC Algorithm dengan Objective Function Davies Bouldin Score Objective Function</h2>"
   ]
  },
  {
   "cell_type": "markdown",
   "metadata": {},
   "source": [
    "pada metric ini, semakin kecil nilainya maka akan semakin baik"
   ]
  },
  {
   "cell_type": "code",
   "execution_count": 20,
   "metadata": {},
   "outputs": [],
   "source": [
    "def objective_function_DBS(params, data):\n",
    "    n_clusters, init, max_iter = params\n",
    "    kmeans = KMeans(n_clusters=n_clusters, init=init, max_iter=max_iter)\n",
    "    kmeans.fit(data)\n",
    "    labels = kmeans.labels_ #hasil klaster\n",
    "    return davies_bouldin_score(data, labels)"
   ]
  },
  {
   "cell_type": "code",
   "execution_count": 21,
   "metadata": {},
   "outputs": [],
   "source": [
    "#employed bee == yang nyari\n",
    "employed_bees = []\n",
    "for _ in range(n_employed_bees):\n",
    "    params = [np.random.choice(param_range['n_clusters']),\n",
    "              np.random.choice(param_range['init']),\n",
    "              np.random.choice(param_range['max_iter'])]\n",
    "    employed_bees.append((params, objective_function_DBS(params, data)))"
   ]
  },
  {
   "cell_type": "code",
   "execution_count": 22,
   "metadata": {},
   "outputs": [
    {
     "data": {
      "text/plain": [
       "[([9, 'k-means++', 200], 0.7057634284395355),\n",
       " ([9, 'random', 100], 0.6336710060255027),\n",
       " ([8, 'k-means++', 100], 0.7962718586822665),\n",
       " ([9, 'k-means++', 500], 0.6437140390651516),\n",
       " ([10, 'random', 200], 0.7266085368524141),\n",
       " ([8, 'random', 100], 0.6761308745051575),\n",
       " ([2, 'k-means++', 300], 0.4944982972986976),\n",
       " ([7, 'random', 500], 0.6763092376154969),\n",
       " ([7, 'k-means++', 200], 0.6853318620648705),\n",
       " ([7, 'k-means++', 300], 0.6925292741942136),\n",
       " ([7, 'k-means++', 100], 0.7468830582588665),\n",
       " ([7, 'random', 300], 0.6464766630195576),\n",
       " ([5, 'random', 100], 0.5681187703484507),\n",
       " ([7, 'k-means++', 200], 0.6531270974331514),\n",
       " ([10, 'random', 400], 0.6747807206154032),\n",
       " ([5, 'random', 100], 0.5539424968958715),\n",
       " ([2, 'k-means++', 500], 0.4944982972986976),\n",
       " ([8, 'random', 500], 0.6984190873149452),\n",
       " ([4, 'k-means++', 100], 0.5684861078752794),\n",
       " ([7, 'random', 200], 0.6797071713690495),\n",
       " ([6, 'k-means++', 100], 0.6005050916353508),\n",
       " ([6, 'k-means++', 300], 0.6043195797841768),\n",
       " ([5, 'k-means++', 500], 0.5228829612204895),\n",
       " ([4, 'k-means++', 100], 0.5684861078752794),\n",
       " ([2, 'k-means++', 400], 0.4944982972986976),\n",
       " ([9, 'random', 100], 0.806980325606555),\n",
       " ([4, 'k-means++', 500], 0.576991475567088),\n",
       " ([9, 'k-means++', 400], 0.6418310789552464),\n",
       " ([2, 'k-means++', 300], 0.4944982972986976),\n",
       " ([7, 'random', 400], 0.5271496924645847),\n",
       " ([2, 'random', 300], 0.4944982972986976),\n",
       " ([5, 'k-means++', 500], 0.5228829612204895),\n",
       " ([2, 'k-means++', 500], 0.4944982972986976),\n",
       " ([10, 'k-means++', 500], 0.7306110350034614),\n",
       " ([10, 'random', 300], 0.6249216675033655),\n",
       " ([4, 'random', 500], 0.5772745542841228),\n",
       " ([7, 'k-means++', 100], 0.717279459378244),\n",
       " ([10, 'random', 500], 0.6358696411939253),\n",
       " ([9, 'random', 500], 0.6367686354933535),\n",
       " ([5, 'random', 200], 0.5539424968958715),\n",
       " ([10, 'k-means++', 300], 0.7157948158178121),\n",
       " ([4, 'k-means++', 300], 0.5684861078752794),\n",
       " ([10, 'k-means++', 500], 0.7284385677163139),\n",
       " ([10, 'random', 400], 0.6137402098729494),\n",
       " ([10, 'random', 500], 0.680968044113931),\n",
       " ([9, 'random', 300], 0.6368182181654654),\n",
       " ([2, 'k-means++', 100], 0.4944982972986976),\n",
       " ([3, 'k-means++', 200], 0.6400633209944503),\n",
       " ([8, 'k-means++', 500], 0.7839604182083065),\n",
       " ([9, 'random', 300], 0.6396338014518886)]"
      ]
     },
     "execution_count": 22,
     "metadata": {},
     "output_type": "execute_result"
    }
   ],
   "source": [
    "employed_bees"
   ]
  },
  {
   "cell_type": "code",
   "execution_count": 23,
   "metadata": {},
   "outputs": [
    {
     "data": {
      "text/plain": [
       "([9, 'random', 100], 0.806980325606555)"
      ]
     },
     "execution_count": 23,
     "metadata": {},
     "output_type": "execute_result"
    }
   ],
   "source": [
    "best_solution = max(employed_bees, key=lambda x: x[1]) #disini bisa dilihat bahwa yang dilihat adalah silhouette scorenya\n",
    "best_solution_params, best_solution_value = best_solution\n",
    "best_solution"
   ]
  },
  {
   "cell_type": "code",
   "execution_count": 24,
   "metadata": {},
   "outputs": [],
   "source": [
    "for iteration in range(max_iterations):\n",
    "    # Employed Bee Phase\n",
    "    for i in range(n_employed_bees):\n",
    "        params, _ = employed_bees[i]\n",
    "        neighbor_params = copy.deepcopy(params)\n",
    "        param_to_change = np.random.choice(3)  \n",
    "        neighbor_params[param_to_change] = np.random.choice(param_range[list(param_range.keys())[param_to_change]])\n",
    "        neighbor_value = objective_function_DBS(neighbor_params, data)\n",
    "        if neighbor_value < employed_bees[i][1]:\n",
    "            employed_bees[i] = (neighbor_params, neighbor_value)\n",
    "\n",
    "    # Onlooker Bee Phase\n",
    "    onlooker_bees = []\n",
    "    total_value = sum(bee[1] for bee in employed_bees)\n",
    "\n",
    "    for i in range(n_onlooker_bees):\n",
    "        random_index = np.random.choice(len(employed_bees))\n",
    "        selected_bee = employed_bees[random_index]\n",
    "        onlooker_bees.append(selected_bee)\n",
    "        total_value += selected_bee[1]\n",
    "\n",
    "    for i in range(n_onlooker_bees):\n",
    "        if np.random.rand() < (onlooker_bees[i][1] / total_value):\n",
    "            params, _ = onlooker_bees[i]\n",
    "            neighbor_params = copy.deepcopy(params)\n",
    "            param_to_change = np.random.choice(3)\n",
    "            neighbor_params[param_to_change] = np.random.choice(param_range[list(param_range.keys())[param_to_change]])\n",
    "            neighbor_value = objective_function_DBS(neighbor_params, data)\n",
    "            if neighbor_value < onlooker_bees[i][1]:\n",
    "                onlooker_bees[i] = (neighbor_params, neighbor_value)\n",
    "\n",
    "    # Scout Bee Phase\n",
    "    for i in range(n_employed_bees):\n",
    "        if employed_bees[i][1] == best_solution_value:\n",
    "            params = [np.random.choice(param_range['n_clusters']),\n",
    "                      np.random.choice(param_range['init']),\n",
    "                      np.random.choice(param_range['max_iter'])]\n",
    "            employed_bees[i] = (params, objective_function_DBS(params, data))\n",
    "\n",
    "    # Update best solution\n",
    "    best_solution = min(employed_bees, key=lambda x: x[1])\n",
    "    best_solution_params, best_solution_value = best_solution"
   ]
  },
  {
   "cell_type": "code",
   "execution_count": 25,
   "metadata": {},
   "outputs": [
    {
     "name": "stdout",
     "output_type": "stream",
     "text": [
      "Best Parameters: [5, 'random', 200]\n",
      "Best Silhouette Score: 0.52246685580341\n"
     ]
    }
   ],
   "source": [
    "print(\"Best Parameters:\", best_solution_params)\n",
    "print(\"Best Silhouette Score:\", best_solution_value)"
   ]
  },
  {
   "cell_type": "code",
   "execution_count": 26,
   "metadata": {},
   "outputs": [
    {
     "data": {
      "text/html": [
       "<style>#sk-container-id-3 {color: black;background-color: white;}#sk-container-id-3 pre{padding: 0;}#sk-container-id-3 div.sk-toggleable {background-color: white;}#sk-container-id-3 label.sk-toggleable__label {cursor: pointer;display: block;width: 100%;margin-bottom: 0;padding: 0.3em;box-sizing: border-box;text-align: center;}#sk-container-id-3 label.sk-toggleable__label-arrow:before {content: \"▸\";float: left;margin-right: 0.25em;color: #696969;}#sk-container-id-3 label.sk-toggleable__label-arrow:hover:before {color: black;}#sk-container-id-3 div.sk-estimator:hover label.sk-toggleable__label-arrow:before {color: black;}#sk-container-id-3 div.sk-toggleable__content {max-height: 0;max-width: 0;overflow: hidden;text-align: left;background-color: #f0f8ff;}#sk-container-id-3 div.sk-toggleable__content pre {margin: 0.2em;color: black;border-radius: 0.25em;background-color: #f0f8ff;}#sk-container-id-3 input.sk-toggleable__control:checked~div.sk-toggleable__content {max-height: 200px;max-width: 100%;overflow: auto;}#sk-container-id-3 input.sk-toggleable__control:checked~label.sk-toggleable__label-arrow:before {content: \"▾\";}#sk-container-id-3 div.sk-estimator input.sk-toggleable__control:checked~label.sk-toggleable__label {background-color: #d4ebff;}#sk-container-id-3 div.sk-label input.sk-toggleable__control:checked~label.sk-toggleable__label {background-color: #d4ebff;}#sk-container-id-3 input.sk-hidden--visually {border: 0;clip: rect(1px 1px 1px 1px);clip: rect(1px, 1px, 1px, 1px);height: 1px;margin: -1px;overflow: hidden;padding: 0;position: absolute;width: 1px;}#sk-container-id-3 div.sk-estimator {font-family: monospace;background-color: #f0f8ff;border: 1px dotted black;border-radius: 0.25em;box-sizing: border-box;margin-bottom: 0.5em;}#sk-container-id-3 div.sk-estimator:hover {background-color: #d4ebff;}#sk-container-id-3 div.sk-parallel-item::after {content: \"\";width: 100%;border-bottom: 1px solid gray;flex-grow: 1;}#sk-container-id-3 div.sk-label:hover label.sk-toggleable__label {background-color: #d4ebff;}#sk-container-id-3 div.sk-serial::before {content: \"\";position: absolute;border-left: 1px solid gray;box-sizing: border-box;top: 0;bottom: 0;left: 50%;z-index: 0;}#sk-container-id-3 div.sk-serial {display: flex;flex-direction: column;align-items: center;background-color: white;padding-right: 0.2em;padding-left: 0.2em;position: relative;}#sk-container-id-3 div.sk-item {position: relative;z-index: 1;}#sk-container-id-3 div.sk-parallel {display: flex;align-items: stretch;justify-content: center;background-color: white;position: relative;}#sk-container-id-3 div.sk-item::before, #sk-container-id-3 div.sk-parallel-item::before {content: \"\";position: absolute;border-left: 1px solid gray;box-sizing: border-box;top: 0;bottom: 0;left: 50%;z-index: -1;}#sk-container-id-3 div.sk-parallel-item {display: flex;flex-direction: column;z-index: 1;position: relative;background-color: white;}#sk-container-id-3 div.sk-parallel-item:first-child::after {align-self: flex-end;width: 50%;}#sk-container-id-3 div.sk-parallel-item:last-child::after {align-self: flex-start;width: 50%;}#sk-container-id-3 div.sk-parallel-item:only-child::after {width: 0;}#sk-container-id-3 div.sk-dashed-wrapped {border: 1px dashed gray;margin: 0 0.4em 0.5em 0.4em;box-sizing: border-box;padding-bottom: 0.4em;background-color: white;}#sk-container-id-3 div.sk-label label {font-family: monospace;font-weight: bold;display: inline-block;line-height: 1.2em;}#sk-container-id-3 div.sk-label-container {text-align: center;}#sk-container-id-3 div.sk-container {/* jupyter's `normalize.less` sets `[hidden] { display: none; }` but bootstrap.min.css set `[hidden] { display: none !important; }` so we also need the `!important` here to be able to override the default hidden behavior on the sphinx rendered scikit-learn.org. See: https://github.com/scikit-learn/scikit-learn/issues/21755 */display: inline-block !important;position: relative;}#sk-container-id-3 div.sk-text-repr-fallback {display: none;}</style><div id=\"sk-container-id-3\" class=\"sk-top-container\"><div class=\"sk-text-repr-fallback\"><pre>KMeans(init=&#x27;random&#x27;, max_iter=200, n_clusters=5)</pre><b>In a Jupyter environment, please rerun this cell to show the HTML representation or trust the notebook. <br />On GitHub, the HTML representation is unable to render, please try loading this page with nbviewer.org.</b></div><div class=\"sk-container\" hidden><div class=\"sk-item\"><div class=\"sk-estimator sk-toggleable\"><input class=\"sk-toggleable__control sk-hidden--visually\" id=\"sk-estimator-id-3\" type=\"checkbox\" checked><label for=\"sk-estimator-id-3\" class=\"sk-toggleable__label sk-toggleable__label-arrow\">KMeans</label><div class=\"sk-toggleable__content\"><pre>KMeans(init=&#x27;random&#x27;, max_iter=200, n_clusters=5)</pre></div></div></div></div></div>"
      ],
      "text/plain": [
       "KMeans(init='random', max_iter=200, n_clusters=5)"
      ]
     },
     "execution_count": 26,
     "metadata": {},
     "output_type": "execute_result"
    }
   ],
   "source": [
    "kmeans = KMeans(n_clusters=best_solution_params[0], init=best_solution_params[1], max_iter=best_solution_params[2])\n",
    "kmeans.fit(data)"
   ]
  },
  {
   "cell_type": "code",
   "execution_count": 27,
   "metadata": {},
   "outputs": [
    {
     "data": {
      "image/png": "[encoded data removed]",
      "text/plain": [
       "<Figure size 640x480 with 1 Axes>"
      ]
     },
     "metadata": {},
     "output_type": "display_data"
    }
   ],
   "source": [
    "cluster_assignments = kmeans.labels_\n",
    "plt.scatter(data[:, 0], data[:, 1], c=cluster_assignments, cmap='viridis')\n",
    "plt.scatter(kmeans.cluster_centers_[:, 0], kmeans.cluster_centers_[:, 1], s=300, c='red', marker='x')\n",
    "plt.xlabel('Income')\n",
    "plt.ylabel('Total shop')\n",
    "plt.title(f'K-Means Clustering dengan Davies Boulding score {silhouette_score(data, cluster_assignments):.2f}')\n",
    "plt.show()"
   ]
  },
  {
   "cell_type": "code",
   "execution_count": 44,
   "metadata": {},
   "outputs": [
    {
     "data": {
      "text/plain": [
       "[3, 5, 7, None, 2]"
      ]
     },
     "execution_count": 44,
     "metadata": {},
     "output_type": "execute_result"
    }
   ],
   "source": [
    "array1 = [2, 5, 6, None, 7]\n",
    "array_base = [3, 5, 7, 1, 2]\n",
    "array2 = [array_base[i] if val != None else None for i, val in enumerate(array1)]\n",
    "array2"
   ]
  }
 ],
 "metadata": {
  "kernelspec": {
   "display_name": "datascience",
   "language": "python",
   "name": "python3"
  },
  "language_info": {
   "codemirror_mode": {
    "name": "ipython",
    "version": 3
   },
   "file_extension": ".py",
   "mimetype": "text/x-python",
   "name": "python",
   "nbconvert_exporter": "python",
   "pygments_lexer": "ipython3",
   "version": "3.11.4"
  }
 },
 "nbformat": 4,
 "nbformat_minor": 2
}
